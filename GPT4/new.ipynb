{
 "cells": [
  {
   "cell_type": "code",
   "execution_count": 117,
   "metadata": {},
   "outputs": [],
   "source": [
    "import pandas as pd\n",
    "import numpy as np\n",
    "import re\n",
    "import torch\n",
    "from torch.nn import CrossEntropyLoss\n",
    "from core import get_utterance_by_TVID, askChatGPT, num_tokens_from_messages"
   ]
  },
  {
   "attachments": {},
   "cell_type": "markdown",
   "metadata": {},
   "source": [
    "# Train"
   ]
  },
  {
   "cell_type": "code",
   "execution_count": 118,
   "metadata": {},
   "outputs": [
    {
     "data": {
      "text/html": [
       "<div>\n",
       "<style scoped>\n",
       "    .dataframe tbody tr th:only-of-type {\n",
       "        vertical-align: middle;\n",
       "    }\n",
       "\n",
       "    .dataframe tbody tr th {\n",
       "        vertical-align: top;\n",
       "    }\n",
       "\n",
       "    .dataframe thead th {\n",
       "        text-align: right;\n",
       "    }\n",
       "</style>\n",
       "<table border=\"1\" class=\"dataframe\">\n",
       "  <thead>\n",
       "    <tr style=\"text-align: right;\">\n",
       "      <th></th>\n",
       "      <th>TV_ID</th>\n",
       "      <th>Dialogue_ID</th>\n",
       "      <th>Utterance_ID</th>\n",
       "      <th>Speaker</th>\n",
       "      <th>Gender</th>\n",
       "      <th>Age</th>\n",
       "      <th>Neuroticism</th>\n",
       "      <th>Extraversion</th>\n",
       "      <th>Openness</th>\n",
       "      <th>Agreeableness</th>\n",
       "      <th>Conscientiousness</th>\n",
       "      <th>Scene</th>\n",
       "      <th>FacePosition_LU</th>\n",
       "      <th>FacePosition_RD</th>\n",
       "      <th>Sentiment</th>\n",
       "      <th>Emotion</th>\n",
       "      <th>DA</th>\n",
       "      <th>Utterance</th>\n",
       "    </tr>\n",
       "  </thead>\n",
       "  <tbody>\n",
       "    <tr>\n",
       "      <th>0</th>\n",
       "      <td>1</td>\n",
       "      <td>01_000</td>\n",
       "      <td>01_000_000</td>\n",
       "      <td>童文洁</td>\n",
       "      <td>female</td>\n",
       "      <td>middle-aged</td>\n",
       "      <td>high</td>\n",
       "      <td>high</td>\n",
       "      <td>low</td>\n",
       "      <td>low</td>\n",
       "      <td>high</td>\n",
       "      <td>other-venue</td>\n",
       "      <td>108_136</td>\n",
       "      <td>156_202</td>\n",
       "      <td>neutral</td>\n",
       "      <td>neutral</td>\n",
       "      <td>greeting</td>\n",
       "      <td>真巧</td>\n",
       "    </tr>\n",
       "    <tr>\n",
       "      <th>1</th>\n",
       "      <td>1</td>\n",
       "      <td>01_000</td>\n",
       "      <td>01_000_001</td>\n",
       "      <td>童文洁</td>\n",
       "      <td>female</td>\n",
       "      <td>middle-aged</td>\n",
       "      <td>high</td>\n",
       "      <td>high</td>\n",
       "      <td>low</td>\n",
       "      <td>low</td>\n",
       "      <td>high</td>\n",
       "      <td>other-venue</td>\n",
       "      <td>193_144</td>\n",
       "      <td>253_197</td>\n",
       "      <td>neutral</td>\n",
       "      <td>neutral</td>\n",
       "      <td>greeting</td>\n",
       "      <td>车没事了</td>\n",
       "    </tr>\n",
       "  </tbody>\n",
       "</table>\n",
       "</div>"
      ],
      "text/plain": [
       "   TV_ID Dialogue_ID Utterance_ID Speaker  Gender          Age Neuroticism  \\\n",
       "0      1      01_000   01_000_000     童文洁  female  middle-aged        high   \n",
       "1      1      01_000   01_000_001     童文洁  female  middle-aged        high   \n",
       "\n",
       "  Extraversion Openness Agreeableness Conscientiousness        Scene  \\\n",
       "0         high      low           low              high  other-venue   \n",
       "1         high      low           low              high  other-venue   \n",
       "\n",
       "  FacePosition_LU FacePosition_RD Sentiment  Emotion        DA Utterance  \n",
       "0         108_136         156_202   neutral  neutral  greeting        真巧  \n",
       "1         193_144         253_197   neutral  neutral  greeting      车没事了  "
      ]
     },
     "execution_count": 118,
     "metadata": {},
     "output_type": "execute_result"
    }
   ],
   "source": [
    "msg_train_data = pd.read_csv(\"../data/CPED/train_split.csv\")\n",
    "msg_train_data = msg_train_data.iloc[0:50]\n",
    "# msg_train_data = msg_train_data[msg_train_data[\"TV_ID\"] == 23]\n",
    "msg_train_data.head(2)"
   ]
  },
  {
   "cell_type": "code",
   "execution_count": 119,
   "metadata": {},
   "outputs": [
    {
     "data": {
      "text/plain": [
       "1195"
      ]
     },
     "execution_count": 119,
     "metadata": {},
     "output_type": "execute_result"
    }
   ],
   "source": [
    "\n",
    "res = [{\n",
    "    \"role\": \"system\",\n",
    "    \"content\": \"接下来，我将提供给你一段对话，这段对话是一个人说的,不过场景和说话对象都不相同。格式如下。'\\n童文洁: 真巧\\n童文洁: 车没事了\\n童文洁: 没事没事 你也去春风\\n'。然后你需要提供对话人物的大五人格的维度属于高还是低。比如你需要回复，'童文洁: 神经质 high, 外倾性 high, 开放性 high, 亲和性 low, 尽责性 low\\n刘静: 神经质 low, 外倾性 high, 开放性 high, 亲和性 high, 尽责性 high\\n'\"\n",
    "}] # 结果保存\n",
    "for i in get_utterance_by_TVID(msg_train_data):\n",
    "    res.append({\n",
    "        \"role\": \"user\",\n",
    "        \"content\": i[0]\n",
    "    })\n",
    "    if not len(i[1]) == 0:\n",
    "        res.append({\n",
    "            \"role\": \"assistant\",\n",
    "            \"content\": i[1]\n",
    "        })\n",
    "num_tokens_from_messages(res)"
   ]
  },
  {
   "cell_type": "markdown",
   "metadata": {},
   "source": [
    "# Test"
   ]
  },
  {
   "cell_type": "code",
   "execution_count": 120,
   "metadata": {},
   "outputs": [
    {
     "data": {
      "text/html": [
       "<div>\n",
       "<style scoped>\n",
       "    .dataframe tbody tr th:only-of-type {\n",
       "        vertical-align: middle;\n",
       "    }\n",
       "\n",
       "    .dataframe tbody tr th {\n",
       "        vertical-align: top;\n",
       "    }\n",
       "\n",
       "    .dataframe thead th {\n",
       "        text-align: right;\n",
       "    }\n",
       "</style>\n",
       "<table border=\"1\" class=\"dataframe\">\n",
       "  <thead>\n",
       "    <tr style=\"text-align: right;\">\n",
       "      <th></th>\n",
       "      <th>TV_ID</th>\n",
       "      <th>Dialogue_ID</th>\n",
       "      <th>Utterance_ID</th>\n",
       "      <th>Speaker</th>\n",
       "      <th>Gender</th>\n",
       "      <th>Age</th>\n",
       "      <th>Neuroticism</th>\n",
       "      <th>Extraversion</th>\n",
       "      <th>Openness</th>\n",
       "      <th>Agreeableness</th>\n",
       "      <th>Conscientiousness</th>\n",
       "      <th>Scene</th>\n",
       "      <th>FacePosition_LU</th>\n",
       "      <th>FacePosition_RD</th>\n",
       "      <th>Sentiment</th>\n",
       "      <th>Emotion</th>\n",
       "      <th>DA</th>\n",
       "      <th>Utterance</th>\n",
       "    </tr>\n",
       "  </thead>\n",
       "  <tbody>\n",
       "    <tr>\n",
       "      <th>0</th>\n",
       "      <td>27</td>\n",
       "      <td>27_000</td>\n",
       "      <td>27_000_000</td>\n",
       "      <td>林宛瑜</td>\n",
       "      <td>female</td>\n",
       "      <td>young</td>\n",
       "      <td>low</td>\n",
       "      <td>high</td>\n",
       "      <td>high</td>\n",
       "      <td>high</td>\n",
       "      <td>high</td>\n",
       "      <td>car</td>\n",
       "      <td>488_14</td>\n",
       "      <td>654_204</td>\n",
       "      <td>neutral</td>\n",
       "      <td>neutral</td>\n",
       "      <td>statement-non-opinion</td>\n",
       "      <td>好了没事了</td>\n",
       "    </tr>\n",
       "    <tr>\n",
       "      <th>1</th>\n",
       "      <td>27</td>\n",
       "      <td>27_000</td>\n",
       "      <td>27_000_001</td>\n",
       "      <td>林宛瑜</td>\n",
       "      <td>female</td>\n",
       "      <td>young</td>\n",
       "      <td>low</td>\n",
       "      <td>high</td>\n",
       "      <td>high</td>\n",
       "      <td>high</td>\n",
       "      <td>high</td>\n",
       "      <td>car</td>\n",
       "      <td>481_47</td>\n",
       "      <td>613_244</td>\n",
       "      <td>neutral</td>\n",
       "      <td>neutral</td>\n",
       "      <td>thanking</td>\n",
       "      <td>谢谢你哦</td>\n",
       "    </tr>\n",
       "  </tbody>\n",
       "</table>\n",
       "</div>"
      ],
      "text/plain": [
       "   TV_ID Dialogue_ID Utterance_ID Speaker  Gender    Age Neuroticism  \\\n",
       "0     27      27_000   27_000_000     林宛瑜  female  young         low   \n",
       "1     27      27_000   27_000_001     林宛瑜  female  young         low   \n",
       "\n",
       "  Extraversion Openness Agreeableness Conscientiousness Scene FacePosition_LU  \\\n",
       "0         high     high          high              high   car          488_14   \n",
       "1         high     high          high              high   car          481_47   \n",
       "\n",
       "  FacePosition_RD Sentiment  Emotion                     DA Utterance  \n",
       "0         654_204   neutral  neutral  statement-non-opinion     好了没事了  \n",
       "1         613_244   neutral  neutral               thanking      谢谢你哦  "
      ]
     },
     "execution_count": 120,
     "metadata": {},
     "output_type": "execute_result"
    }
   ],
   "source": [
    "msg_test_data = pd.read_csv(\"../data/CPED/test_split.csv\")\n",
    "# msg_test_data = msg_test_data[msg_test_data[\"TV_ID\"] == 27]\n",
    "msg_test_data.head(2)"
   ]
  },
  {
   "cell_type": "code",
   "execution_count": null,
   "metadata": {},
   "outputs": [],
   "source": [
    "y = [] # 真实结果和预测结果\n",
    "asd = []\n",
    "for i in get_utterance_by_TVID(msg_test_data):\n",
    "    mm = [v for v in res]\n",
    "    mm.append({\n",
    "        \"role\": \"user\",\n",
    "        \"content\": i[0]\n",
    "    })\n",
    "    asd.append(mm)\n",
    "    if num_tokens_from_messages(mm) < 8192 and num_tokens_from_messages(mm) > 4000:\n",
    "        arr = askChatGPT(mm)\n",
    "        y.append([i[1], arr])"
   ]
  },
  {
   "cell_type": "code",
   "execution_count": 129,
   "metadata": {},
   "outputs": [
    {
     "name": "stdout",
     "output_type": "stream",
     "text": [
      "0 5764\n",
      "1 28004\n",
      "2 55486\n",
      "3 4509\n",
      "4 22196\n",
      "5 38799\n",
      "6 2416\n",
      "7 50137\n",
      "8 6843\n",
      "9 21109\n",
      "10 21723\n",
      "11 8266\n",
      "12 7797\n",
      "13 15940\n",
      "14 3321\n",
      "15 39464\n",
      "16 13301\n",
      "17 5875\n",
      "18 9417\n",
      "19 1620\n",
      "20 3575\n",
      "21 40460\n",
      "22 4478\n",
      "23 8305\n",
      "24 2171\n",
      "25 2805\n",
      "26 13695\n",
      "27 13442\n",
      "28 1900\n",
      "29 17722\n",
      "30 18852\n",
      "31 5759\n",
      "32 38886\n",
      "33 9058\n",
      "最后分析人数为 7\n",
      "[0, 3, 8, 12, 17, 22, 31]\n"
     ]
    }
   ],
   "source": [
    "num = 0\n",
    "ress = []\n",
    "for i,v in enumerate(asd):\n",
    "    c = num_tokens_from_messages(v)\n",
    "    print(i, c)\n",
    "    if c < 8192 and c > 4000:\n",
    "        num += 1\n",
    "        ress.append(i)\n",
    "\n",
    "print(\"最后分析人数为\", num)\n",
    "print(ress)"
   ]
  },
  {
   "cell_type": "code",
   "execution_count": 131,
   "metadata": {},
   "outputs": [
    {
     "data": {
      "text/plain": [
       "[{'role': 'system',\n",
       "  'content': \"接下来，我将提供给你一段对话，这段对话是一个人说的,不过场景和说话对象都不相同。格式如下。'\\n童文洁: 真巧\\n童文洁: 车没事了\\n童文洁: 没事没事 你也去春风\\n'。然后你需要提供对话人物的大五人格的维度属于高还是低。比如你需要回复，'童文洁: 神经质 high, 外倾性 high, 开放性 high, 亲和性 low, 尽责性 low\\n刘静: 神经质 low, 外倾性 high, 开放性 high, 亲和性 high, 尽责性 high\\n'\"},\n",
       " {'role': 'user',\n",
       "  'content': '刘静: 是你呀 没事了没事 谢谢你\\n刘静: 对\\n刘静: 对呀\\n刘静: 高三了\\n刘静: 三班啊\\n刘静: 我儿子叫季杨杨\\n刘静: 那是他舅舅\\n'},\n",
       " {'role': 'assistant',\n",
       "  'content': '刘静: 神经质 low, 外倾性 high, 开放性 high, 亲和性 high, 尽责性 high\\n'},\n",
       " {'role': 'user',\n",
       "  'content': '方一凡: 妈\\n方一凡: 妈，我错了\\n方一凡: 数学92\\n方一凡: 化学91\\n方一凡: 除了英语一般般\\n方一凡: 其他都特别棒\\n方一凡: 我随我爸爸\\n'},\n",
       " {'role': 'assistant',\n",
       "  'content': '方一凡: 神经质 low, 外倾性 high, 开放性 high, 亲和性 high, 尽责性 low\\n'},\n",
       " {'role': 'user',\n",
       "  'content': '童文洁: 真巧\\n童文洁: 车没事了\\n童文洁: 没事没事 你也去春风\\n童文洁: 你孩子也在这上学\\n童文洁: 真巧 我儿子也在这\\n童文洁: 你孩子几年级\\n童文洁: 哪个班\\n童文洁: 我儿子也三班\\n童文洁: 我儿子叫方一凡\\n童文洁: 你孩子叫什么\\n童文洁: 季杨杨，好像我听凡凡说过\\n童文洁: 对\\n童文洁: 是不是每次开家长会来的都是他爸爸\\n童文洁: 我说呢这么年轻\\n童文洁: 你不要叫我妈\\n童文洁: 我不是你妈\\n童文洁: 你没错\\n童文洁: 我错了\\n童文洁: 我为什么要生你\\n童文洁: 我吃饱了撑的我就不该生你\\n童文洁: 方一凡我真的不明白你脑子里面天天在想什么\\n童文洁: 你是不是真的不知道现在高几了\\n童文洁: 你不知道我告诉你\\n童文洁: 你现在高三了\\n童文洁: 不再是高一高二了\\n童文洁: 你说\\n童文洁: 你说你 天天天天\\n童文洁: 学习不灵，打架门清，一个暑假我给你报个补习班\\n童文洁: 原指望你好好学习能上去\\n童文洁: 结果断崖式的下滑\\n童文洁: 你对得起我吗\\n童文洁: 妈妈高三那年妈妈怎么跟你讲的吗\\n童文洁: 你为什么一点不随妈妈\\n童文洁: 凡凡\\n童文洁: 你也没随你爸\\n童文洁: 你爸也是学霸\\n'},\n",
       " {'role': 'assistant',\n",
       "  'content': '童文洁: 神经质 high, 外倾性 high, 开放性 low, 亲和性 low, 尽责性 high\\n'},\n",
       " {'role': 'user',\n",
       "  'content': '苑春丽: 这么说我就要奶奶了\\n苑春丽: 结果呢 成功了没有\\n苑春丽: 一菲 瞧你这事办的\\n苑春丽: 我和你爸在新马泰度假\\n苑春丽: 接到你的电话我吃不下睡不着的\\n苑春丽: 打了飞机就过来了\\n苑春丽: 我跟他说下周有个惊喜要告诉他\\n苑春丽: 他急的都不会游泳了\\n苑春丽: 就把我踹过来了\\n苑春丽: 来都来了\\n苑春丽: 总得把问题解决了\\n苑春丽: 你不知道 女孩像招商银行\\n苑春丽: 男孩就像建设银行\\n苑春丽: 本来指望你先招商\\n苑春丽: 再让展博去建设\\n苑春丽: 可是现在融资还没完成就要开销了\\n苑春丽: 一菲 你告诉宛瑜 不用照顾我\\n苑春丽: 我自有安排了你们公寓里不是有很多男生吗\\n苑春丽: 你随便安排他们轮流请我吃饭就好了\\n苑春丽: 其实妈这次急着来\\n苑春丽: 不仅仅是因为展博\\n苑春丽: 关键还是因为你 要没人跟我求婚\\n苑春丽: 这才是问题\\n苑春丽: 展博的方向已经定了\\n苑春丽: 可是你 我来都来了\\n苑春丽: 就一并帮你们处理掉了\\n苑春丽: 我忙碌了大半辈子\\n苑春丽: 就差你们两块心头病\\n苑春丽: 只要解决了 那我就可以\\n苑春丽: 二次创业了\\n苑春丽: 很好\\n苑春丽: 经过几天的观察\\n苑春丽: 我终于决定了\\n苑春丽: 是你的方向问题\\n苑春丽: 相信妈\\n苑春丽: 我过的桥比你走的路都多\\n苑春丽: 我吃的盐比你吃的饭还多\\n苑春丽: 妈妈一直像亲人一样疼爱着你\\n苑春丽: 还能害你\\n苑春丽: 我们老胡家的女儿一定得找个事业成功、成熟稳重、有魄力、求上进、长得帅、有风度\\n苑春丽: 心地又好\\n苑春丽: 有车有楼的好男人\\n苑春丽: 吕子乔就不错\\n苑春丽: 我很有做他丈母娘的冲动\\n苑春丽: 你实在是不喜欢的话\\n苑春丽: 我们可以采取B方案 昨天一起吃饭的关谷\\n苑春丽: 长得不错\\n苑春丽: 人又老实\\n苑春丽: 虽然说话是二了点\\n苑春丽: 但是至少比展博还要强\\n苑春丽: 他特别向我插队落户的时候分配粮食的张队长\\n苑春丽: 口音也像 要不是高考1977\\n苑春丽: 我和他\\n苑春丽: 好啊\\n苑春丽: 我最喜欢混血小宝宝了\\n苑春丽: 金发碧眼的多可爱啊\\n苑春丽: 这么说你答应了？\\n苑春丽: 你看看，别的女孩子下手都比你快\\n苑春丽: 你这些年都在干什么呀\\n苑春丽: 实在不行的话\\n苑春丽: 还有一个\\n苑春丽: 曾小莲啊\\n苑春丽: 我怎么把他给忘了\\n苑春丽: 为什么呀\\n苑春丽: 你对他有意思是吧\\n苑春丽: 那你给我一个理由\\n苑春丽: 要不我找他问清楚\\n苑春丽: 怪不得了\\n苑春丽: 我说怎么取这个名字呢\\n苑春丽: 小莲\\n苑春丽: 我没有啊 没在看你啊\\n苑春丽: 我在看电视\\n苑春丽: 我在想看什么电视节目好\\n苑春丽: 你有什么推荐的\\n苑春丽: 看来一菲说的没错\\n苑春丽: 他说你特别会照顾人\\n苑春丽: 对他特别好\\n苑春丽: 你们两个相处的特别融洽\\n苑春丽: 说吧小莲\\n苑春丽: 说 别担心 我没你想象的那么古板\\n苑春丽: 有多优秀\\n苑春丽: 懂了 我懂了\\n苑春丽: 像你们这类人的感情问题比普通的男女问题还要复杂\\n苑春丽: 等等等等\\n苑春丽: 你说你那个朋友他喜欢的对象\\n苑春丽: 我认识吗\\n苑春丽: 是展博啊\\n苑春丽: 我知道了\\n苑春丽: 我大概知道是谁了\\n苑春丽: 我明白\\n苑春丽: 我觉得这个问题出在对方的身上\\n苑春丽: 太强势不好\\n苑春丽: 但你得体谅 男人嘛 难免\\n苑春丽: 很有可能是对方还没有那么快的想通接受你的朋友\\n苑春丽: 要不阿姨改天从侧面帮你打听一下\\n苑春丽: 我原来真不能接受\\n苑春丽: 我不接受也要接受\\n苑春丽: 也挺不容易的\\n苑春丽: 跟小莲谈过之后 我越发觉得你身边的竞争非常激烈\\n苑春丽: 妈又帮你物色了几个人选\\n苑春丽: 你看看\\n苑春丽: 别扯开话题\\n苑春丽: 少来这一套 看照片\\n苑春丽: 别想糊弄\\n苑春丽: 我这个我倒没看过 在哪里\\n苑春丽: 太漂亮了\\n苑春丽: 就是太贵了\\n苑春丽: 你什么时候也帮我骗一个回来\\n苑春丽: 有出有进才平衡\\n苑春丽: 我们还是小心点\\n苑春丽: 回头给婉瑜看到 展博又不高兴了\\n苑春丽: 你怎么知道\\n苑春丽: 这个没脑子的 这可怎么办\\n苑春丽: 还不赶紧送过去\\n苑春丽: 一菲 展博求婚怎么样了\\n苑春丽: 成功了没有\\n苑春丽: 你弟弟求婚你应该在后面护驾的\\n苑春丽: 怎么就回来了\\n苑春丽: 你等错电影院了\\n苑春丽: 有什么关系\\n苑春丽: 也对 比赛都开始了\\n苑春丽: 当然了\\n苑春丽: 我特别喜欢邓亚萍\\n苑春丽: 展博不回来我睡不着\\n苑春丽: 对了\\n苑春丽: 温网是不是在温州打的\\n苑春丽: 你说婉瑜和展博为什么还没回来\\n苑春丽: 为什么\\n苑春丽: 庆祝也不用弄的那么晚了\\n苑春丽: 一菲 我刚才在展播房里看到 那个什么 他没带啊\\n苑春丽: 这个都不带今晚准得出事儿了\\n苑春丽: 开什么玩笑啊\\n苑春丽: 但愿宛瑜别忘了就行了\\n苑春丽: 男孩子不带\\n苑春丽: 还要问女孩子借多不像话\\n苑春丽: 我说的是钱包\\n苑春丽: 你说的是什么\\n苑春丽: 儿子\\n苑春丽: 我都听见了\\n苑春丽: 拿去\\n苑春丽: 别那么紧张\\n苑春丽: 儿子\\n苑春丽: 你知道婉瑜这么做\\n苑春丽: 是为什么\\n苑春丽: 记得妈跟你说过什么\\n苑春丽: 记得妈跟你说过什么\\n苑春丽: 我是说心急吃不了热豆腐\\n苑春丽: 人与人之间总会有分歧\\n苑春丽: 谈恋爱就是一个求同存异的过程\\n苑春丽: 不求同走不到一起\\n苑春丽: 不存异走不下去\\n苑春丽: 有些事情你始终要明白\\n苑春丽: 什么分歧是可以无视\\n苑春丽: 而什么分歧你是永远逃避不了的\\n苑春丽: 婚姻和恋爱不同\\n苑春丽: 你们两个人同时都在一个紧密的空间里\\n苑春丽: 出不去也进不来\\n苑春丽: 你们始终要面对你们的分歧\\n苑春丽: 有些单是逃不掉的\\n苑春丽: 你早晚要买 结婚不仅仅是准备一枚戒指\\n苑春丽: 还有很多事情\\n苑春丽: 你要仔细想一想儿子\\n苑春丽: 我睡觉了\\n'}]"
      ]
     },
     "execution_count": 131,
     "metadata": {},
     "output_type": "execute_result"
    }
   ],
   "source": [
    "asd[22]"
   ]
  },
  {
   "cell_type": "code",
   "execution_count": 125,
   "metadata": {},
   "outputs": [],
   "source": [
    "y_true = pd.DataFrame({\n",
    "    \"name\": [],\n",
    "    \"Neuroticism\": [],\n",
    "    \"Extraversion\": [],\n",
    "    \"Openness\": [],\n",
    "    \"Agreeableness\": [],\n",
    "    \"Conscientiousness\": []\n",
    "})\n",
    "y_pre = pd.DataFrame({\n",
    "    \"name\": [],\n",
    "    \"Neuroticism\": [],\n",
    "    \"Extraversion\": [],\n",
    "    \"Openness\": [],\n",
    "    \"Agreeableness\": [],\n",
    "    \"Conscientiousness\": []\n",
    "})\n",
    "for i in y:\n",
    "    i1 = re.findall(\n",
    "        r\"(.*?)[:]\\s神经质\\s(.*?),\\s外倾性\\s(.*?),\\s开放性\\s(.*?),\\s亲和性\\s(.*?),\\s尽责性\\s(.*?)$\", i[0])[0]\n",
    "    y_true = pd.concat([y_true, pd.DataFrame({\n",
    "        \"name\": [i1[0]],\n",
    "        \"Neuroticism\": [1 if i1[1] == \"high\" else 0],\n",
    "        \"Extraversion\": [1 if i1[2] == \"high\" else 0],\n",
    "        \"Openness\": [1 if i1[3] == \"high\" else 0],\n",
    "        \"Agreeableness\": [1 if i1[4] == \"high\" else 0],\n",
    "        \"Conscientiousness\": [1 if i1[5] == \"high\" else 0]\n",
    "    })], axis=0)\n",
    "    i2 = re.findall(\n",
    "        r\"(.*?)[:]\\s神经质\\s(.*?),\\s外倾性\\s(.*?),\\s开放性\\s(.*?),\\s亲和性\\s(.*?),\\s尽责性\\s(.*?)$\", i[1])[0]\n",
    "    y_pre = pd.concat([y_pre, pd.DataFrame({\n",
    "        \"name\": [i2[0]],\n",
    "        \"Neuroticism\": [1 if i2[1] == \"high\" else 0],\n",
    "        \"Extraversion\": [1 if i2[2] == \"high\" else 0],\n",
    "        \"Openness\": [1 if i2[3] == \"high\" else 0],\n",
    "        \"Agreeableness\": [1 if i2[4] == \"high\" else 0],\n",
    "        \"Conscientiousness\": [1 if i2[5] == \"high\" else 0]\n",
    "    })], axis=0)"
   ]
  },
  {
   "cell_type": "code",
   "execution_count": 126,
   "metadata": {},
   "outputs": [
    {
     "name": "stdout",
     "output_type": "stream",
     "text": [
      "多分类交叉熵 值为 tensor(5.0709, dtype=torch.float64)\n"
     ]
    }
   ],
   "source": [
    "y_pre_torch = torch.from_numpy(y_pre.iloc[:, 1:].to_numpy())\n",
    "y_true_torch = torch.from_numpy(y_true.iloc[:, 1:].to_numpy())\n",
    "\n",
    "cce = CrossEntropyLoss()\n",
    "print(\"多分类交叉熵 值为\", cce(y_pre_torch, y_true_torch))"
   ]
  },
  {
   "attachments": {},
   "cell_type": "markdown",
   "metadata": {},
   "source": [
    "### 真实\n",
    "吕子乔: 神经质 low, 外倾性 high, 开放性 high, 亲和性 high, 尽责性 low\n",
    "曾小贤: 神经质 high, 外倾性 high, 开放性 low, 亲和性 high, 尽责性 low\n",
    "林宛瑜: 神经质 low, 外倾性 high, 开放性 high, 亲和性 high, 尽责性 high\n",
    "胡一菲: 神经质 low, 外倾性 high, 开放性 low, 亲和性 low, 尽责性 high\n",
    "陆展博: 神经质 high, 外倾性 low, 开放性 high, 亲和性 high, 尽责性 high\n",
    "其他: 神经质 unknown, 外倾性 unknown, 开放性 unknown, 亲和性 unknown, 尽责性 unknown"
   ]
  },
  {
   "attachments": {},
   "cell_type": "markdown",
   "metadata": {},
   "source": [
    "### GPT\n",
    "吕子乔: 神经质 low, 外倾性 high, 开放性 high, 亲和性 high, 尽责性 low\n",
    "曾小贤: 神经质 low, 外倾性 high, 开放性 high, 亲和性 high, 尽责性 high\n",
    "林宛瑜: 神经质 low, 外倾性 high, 开放性 high, 亲和性 high, 尽责性 high\n",
    "胡一菲: 神经质 high, 外倾性 high, 开放性 high, 亲和性 low, 尽责性 high\n",
    "陆展博: 神经质 low, 外倾性 high, 开放性 high, 亲和性 high, 尽责性 high\n",
    "其他: 神经质 low, 外倾性 low, 开放性 low, 亲和性 low, 尽责性 low"
   ]
  }
 ],
 "metadata": {
  "kernelspec": {
   "display_name": "base",
   "language": "python",
   "name": "python3"
  },
  "language_info": {
   "codemirror_mode": {
    "name": "ipython",
    "version": 3
   },
   "file_extension": ".py",
   "mimetype": "text/x-python",
   "name": "python",
   "nbconvert_exporter": "python",
   "pygments_lexer": "ipython3",
   "version": "3.9.16"
  },
  "orig_nbformat": 4,
  "vscode": {
   "interpreter": {
    "hash": "8c83757f6c30423986c3fbe55670954346c835ad41fee96d431030808e97aca6"
   }
  }
 },
 "nbformat": 4,
 "nbformat_minor": 2
}
