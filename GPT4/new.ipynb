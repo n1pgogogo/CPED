{
 "cells": [
  {
   "cell_type": "code",
   "execution_count": 1,
   "metadata": {},
   "outputs": [],
   "source": [
    "import pandas as pd\n",
    "import openai\n",
    "import numpy as np\n",
    "from dotenv import load_dotenv\n",
    "import os\n",
    "\n",
    "load_dotenv()\n",
    "\n",
    "api_key = os.getenv(\"GPT_API\")\n",
    "openai.api_key = api_key\n",
    "\n",
    "\n",
    "def askChatGPT(messages):\n",
    "    MODEL = \"gpt-4\"\n",
    "    response = openai.ChatCompletion.create(\n",
    "        model=MODEL,\n",
    "        messages=messages,\n",
    "        temperature=1)\n",
    "    return response['choices'][0]['message']['content'] # type: ignore"
   ]
  },
  {
   "cell_type": "code",
   "execution_count": 11,
   "metadata": {},
   "outputs": [
    {
     "data": {
      "text/html": [
       "<div>\n",
       "<style scoped>\n",
       "    .dataframe tbody tr th:only-of-type {\n",
       "        vertical-align: middle;\n",
       "    }\n",
       "\n",
       "    .dataframe tbody tr th {\n",
       "        vertical-align: top;\n",
       "    }\n",
       "\n",
       "    .dataframe thead th {\n",
       "        text-align: right;\n",
       "    }\n",
       "</style>\n",
       "<table border=\"1\" class=\"dataframe\">\n",
       "  <thead>\n",
       "    <tr style=\"text-align: right;\">\n",
       "      <th></th>\n",
       "      <th>TV_ID</th>\n",
       "      <th>Dialogue_ID</th>\n",
       "      <th>Utterance_ID</th>\n",
       "      <th>Speaker</th>\n",
       "      <th>Gender</th>\n",
       "      <th>Age</th>\n",
       "      <th>Neuroticism</th>\n",
       "      <th>Extraversion</th>\n",
       "      <th>Openness</th>\n",
       "      <th>Agreeableness</th>\n",
       "      <th>Conscientiousness</th>\n",
       "      <th>Scene</th>\n",
       "      <th>FacePosition_LU</th>\n",
       "      <th>FacePosition_RD</th>\n",
       "      <th>Sentiment</th>\n",
       "      <th>Emotion</th>\n",
       "      <th>DA</th>\n",
       "      <th>Utterance</th>\n",
       "    </tr>\n",
       "  </thead>\n",
       "  <tbody>\n",
       "    <tr>\n",
       "      <th>0</th>\n",
       "      <td>1</td>\n",
       "      <td>01_000</td>\n",
       "      <td>01_000_000</td>\n",
       "      <td>童文洁</td>\n",
       "      <td>female</td>\n",
       "      <td>middle-aged</td>\n",
       "      <td>high</td>\n",
       "      <td>high</td>\n",
       "      <td>low</td>\n",
       "      <td>low</td>\n",
       "      <td>high</td>\n",
       "      <td>other-venue</td>\n",
       "      <td>108_136</td>\n",
       "      <td>156_202</td>\n",
       "      <td>neutral</td>\n",
       "      <td>neutral</td>\n",
       "      <td>greeting</td>\n",
       "      <td>真巧</td>\n",
       "    </tr>\n",
       "    <tr>\n",
       "      <th>1</th>\n",
       "      <td>1</td>\n",
       "      <td>01_000</td>\n",
       "      <td>01_000_001</td>\n",
       "      <td>童文洁</td>\n",
       "      <td>female</td>\n",
       "      <td>middle-aged</td>\n",
       "      <td>high</td>\n",
       "      <td>high</td>\n",
       "      <td>low</td>\n",
       "      <td>low</td>\n",
       "      <td>high</td>\n",
       "      <td>other-venue</td>\n",
       "      <td>193_144</td>\n",
       "      <td>253_197</td>\n",
       "      <td>neutral</td>\n",
       "      <td>neutral</td>\n",
       "      <td>greeting</td>\n",
       "      <td>车没事了</td>\n",
       "    </tr>\n",
       "  </tbody>\n",
       "</table>\n",
       "</div>"
      ],
      "text/plain": [
       "   TV_ID Dialogue_ID Utterance_ID Speaker  Gender          Age Neuroticism  \\\n",
       "0      1      01_000   01_000_000     童文洁  female  middle-aged        high   \n",
       "1      1      01_000   01_000_001     童文洁  female  middle-aged        high   \n",
       "\n",
       "  Extraversion Openness Agreeableness Conscientiousness        Scene  \\\n",
       "0         high      low           low              high  other-venue   \n",
       "1         high      low           low              high  other-venue   \n",
       "\n",
       "  FacePosition_LU FacePosition_RD Sentiment  Emotion        DA Utterance  \n",
       "0         108_136         156_202   neutral  neutral  greeting        真巧  \n",
       "1         193_144         253_197   neutral  neutral  greeting      车没事了  "
      ]
     },
     "execution_count": 11,
     "metadata": {},
     "output_type": "execute_result"
    }
   ],
   "source": [
    "msg_train_data = pd.read_csv(\"../data/CPED/train_split.csv\")\n",
    "msg_train_data = msg_train_data.iloc[0:200]\n",
    "msg_train_data.head(2)"
   ]
  },
  {
   "attachments": {},
   "cell_type": "markdown",
   "metadata": {},
   "source": [
    "# 标注内容"
   ]
  },
  {
   "cell_type": "code",
   "execution_count": 12,
   "metadata": {},
   "outputs": [
    {
     "data": {
      "text/plain": [
       "[{'role': 'system',\n",
       "  'content': \"接下来，我将提供给你一段对话，对话的人数不确定。不过格式如下。'\\n童文洁: 真巧\\n童文洁: 车没事了\\n刘静: 是你呀 没事了没事 谢谢你\\n'。然后你需要提供对话人物的大五人格的维度属于高还是低。比如你需要回复，'童文洁: 神经质 high, 外倾性 high, 开放性 high, 亲和性 low, 尽责性 low\\n刘静: 神经质 low, 外倾性 high, 开放性 high, 亲和性 high, 尽责性 high\\n'\"},\n",
       " {'role': 'user',\n",
       "  'content': '童文洁: 真巧\\n童文洁: 车没事了\\n刘静: 是你呀 没事了没事 谢谢你\\n童文洁: 没事没事 你也去春风\\n刘静: 对\\n童文洁: 你孩子也在这上学\\n刘静: 对呀\\n童文洁: 真巧 我儿子也在这\\n童文洁: 你孩子几年级\\n刘静: 高三了\\n童文洁: 哪个班\\n刘静: 三班啊\\n童文洁: 我儿子也三班\\n童文洁: 我儿子叫方一凡\\n童文洁: 你孩子叫什么\\n刘静: 我儿子叫季杨杨\\n童文洁: 季杨杨，好像我听凡凡说过\\n童文洁: 对\\n童文洁: 是不是每次开家长会来的都是他爸爸\\n刘静: 那是他舅舅\\n童文洁: 我说呢这么年轻\\n方一凡: 妈\\n童文洁: 你不要叫我妈\\n童文洁: 我不是你妈\\n方一凡: 妈，我错了\\n童文洁: 你没错\\n童文洁: 我错了\\n童文洁: 我为什么要生你\\n童文洁: 我吃饱了撑的我就不该生你\\n童文洁: 方一凡我真的不明白你脑子里面天天在想什么\\n童文洁: 你是不是真的不知道现在高几了\\n童文洁: 你不知道我告诉你\\n童文洁: 你现在高三了\\n童文洁: 不再是高一高二了\\n童文洁: 你说\\n童文洁: 你说你 天天天天\\n童文洁: 学习不灵，打架门清，一个暑假我给你报个补习班\\n童文洁: 原指望你好好学习能上去\\n童文洁: 结果断崖式的下滑\\n童文洁: 你对得起我吗\\n童文洁: 妈妈高三那年妈妈怎么跟你讲的吗\\n方一凡: 数学92\\n方一凡: 化学91\\n方一凡: 除了英语一般般\\n方一凡: 其他都特别棒\\n童文洁: 你为什么一点不随妈妈\\n童文洁: 凡凡\\n方一凡: 我随我爸爸\\n童文洁: 你也没随你爸\\n童文洁: 你爸也是学霸\\n童文洁: 当年成绩也很好\\n童文洁: 这两年才堕落的\\n童文洁: 才玩物丧志的\\n童文洁: 还给你搞什么乌龟\\n方一凡: 烤鸭其实我给你一点你知道吧\\n方一凡: 一会你就多吃点\\n方一凡: 你把那一只烤鸭都吃了\\n方一凡: 然后再多喝点鸭汤\\n方一凡: 败败火\\n方一凡: 然后咱不是说好还得去趟超市吗\\n童文洁: 方一凡你什么都能记住\\n童文洁: 又是超市又是烤鸭\\n童文洁: 你就是不记住你的学习上的事\\n童文洁: 是不是\\n方一凡: 妈其实我都帮你记着\\n方一凡: 不是你说的吗\\n方一凡: 说你的学霸弟弟要来了\\n方一凡: 你得好好照顾他\\n方一凡: 不能让他在学校被欺负了\\n方一凡: 咱们正好要去超市给他买点什么生活用品什么的\\n方一凡: 别来了没有\\n方一凡: 我都帮你记得了\\n方一凡: 别生气了\\n童文洁: 凡凡，磊磊来了\\n童文洁: 你真的要懂事一些\\n童文洁: 磊磊妈妈走了\\n童文洁: 他爸爸对他不怎么样也不上心\\n童文洁: 摊上那么个后妈\\n童文洁: 磊磊来了你要跟他好好相处\\n童文洁: 要好好向他学习\\n童文洁: 磊磊等于跟你是有1/4血缘关系的\\n童文洁: 真等于亲兄弟\\n童文洁: 你听到没有\\n方一凡: 听到\\n方一凡: 妈\\n方一凡: 他要来北京参加高考啊\\n方一凡: 他有北京户口吗\\n童文洁: 你操这个心干什么\\n童文洁: 该你操心的你不操心\\n童文洁: 不该你操心的你瞎操心\\n童文洁: 他怎么没有北京户口\\n童文洁: 你大姨他当年嫁到福建的时候\\n童文洁: 户口没调过去\\n童文洁: 他随你大姨一直留在北京的户口就在咱们家\\n方一凡: 你早跟我说不就完了吗\\n童文洁: 你问我了吗\\n校长: 李老师\\n校长: 坐吧\\n校长: 李老师高三学生蹲班的事情\\n校长: 我想再跟你沟通一下\\n校长: 我们校领导班组昨天专门开会\\n校长: 就这个问题也进行了上会讨论\\n校长: 最后一致认为不能开蹲班这个口子\\n校长: 这届学生都正常升入高三\\n李老师: 校长我之前在动员会上已经强调过了\\n李老师: 我提议让部分学生蹲班是基于这一届学生的实际情况而来的\\n李老师: 这一届学生里边尾部的学生成绩离本科线差距确实是很大\\n李老师: 所以我是担心\\n校长: 我知道你担心什么李老师\\n校长: 你担心升学率\\n校长: 本科率对不对\\n校长: 你也带了这么多年的高三教学成绩可以说是有目共睹\\n校长: 作为校长\\n校长: 我应该特别感谢你的付出和努力\\n校长: 但是我也希望你能明白一点\\n校长: 高考成绩确实重要\\n校长: 但高考本身它只是一个过程\\n校长: 我们教书育人\\n校长: 核心就是培养我们的学生\\n校长: 让他们成才\\n校长: 而不是一味的追求升学率的数字\\n李老师: 校长您说的这些我都明白\\n李老师: 而且我觉得这两者之间并不冲突\\n李老师: 对于升学率这个问题\\n李老师: 我觉得你对我有误会\\n李老师: 我不是一味的追求升学率\\n李老师: 这个事我只是希望能够对待每一个同学都能因材施教\\n李老师: 制定一个最适合他们的教学方式\\n李老师: 你与其让这些没有准备好的孩子去经历一次高考的失败\\n李老师: 你莫不如给他们多一些时间让他们做准备\\n校长: 但是李老师你有没有考虑过蹲班留级这样的事情\\n校长: 对一个学生来说\\n校长: 可能会造成怎样的心理阴影\\n校长: 咱们换位思考\\n校长: 如果是你你真的愿意接受学校这样的安排吗\\n校长: 李老师作为年轻教师\\n校长: 你有拼劲\\n校长: 有闯劲\\n校长: 有拼搏的劲头\\n校长: 我们都很认可\\n校长: 但是如今高中生的培养\\n校长: 心理层面的教育跟学科层面的教育一样重要\\n校长: 这一点作为年级组长的你更应该清楚\\n校长: 更应该掌握好\\n校长: 我们做老师的还是要相信所有的教育都会有收获的那一天\\n李老师: 行 校长\\n李老师: 我明白了\\n李老师: 我一会就去通知各个家长\\n李老师: 然后重新沟通一下这个事情\\n李老师: 我也会告诉各个班的班主任做好后续的跟进工作\\n校长: 好\\n校长: 李老师我是充分相信你和全体高三老师的能力\\n校长: 我相信这一届高三学生到毕业那天同样会非常出色\\n刘铮: 正等着你\\n刘铮: 那什么，处理完了，没事了吧\\n刘静: 都是你惯的\\n刘静: 没事你给他什么车\\n刘铮: 没说给他就让他开一下\\n刘铮: 我这不答应杨杨，他拿到驾照\\n刘铮: 让他开一开车\\n刘静: 你这样会把他惯坏的知道吗\\n刘静: 要什么给什么\\n刘静: 姥姥姥爷也是的\\n刘静: 什么都由着\\n刘静: 是害了他知道吗\\n刘铮: 是，这点我完全同意\\n刘铮: 但是姥姥姥爷宠着\\n刘铮: 那是因为你们常年不在怕委屈了孩子\\n刘铮: 没事啊\\n刘铮: 这问题马上解决了\\n刘铮: 你们住在一块\\n刘铮: 慢慢严格要求\\n刘静: 现在严格要求就怕来不及了\\n刘静: 他根本都不听我的\\n刘静: 就别说他爸爸了\\n刘静: 三句话不过就翻车了\\n刘静: 刘铮\\n刘静: 他是不是老跟你说\\n刘静: 不想跟我们在一块住\\n刘铮: 孩子的话不能往心里头去\\n刘铮: 杨杨是个聪明孩子\\n刘铮: 要怪只能说你们之前陪伴的少\\n刘铮: 人发发牢骚也是正常的\\n刘铮: 是不是\\n刘铮: 没事\\n刘铮: 等他住在一块慢慢就好了\\n刘铮: 你真能定吗\\n刘静: 合适\\n刘铮: 你要能定的话\\n刘铮: 我就找人帮你打扫了\\n刘铮: 另外我姐夫不是喜欢中式家具吗\\n刘铮: 我得搞一套给搁里头\\n刘静: 别\\n刘静: 你姐夫他就怕招摇\\n刘静: 你千万别给他弄那么贵的中式家具\\n刘静: 不用\\n刘铮: 放心\\n刘铮: 我保证找一套实惠便宜保证不招摇的好吧\\n刘铮: 这事你甭管了\\n刘铮: 我来办\\n'},\n",
       " {'role': 'assistant',\n",
       "  'content': '刘铮: 神经质 low, 外倾性 high, 开放性 high, 亲和性 high, 尽责性 high\\n刘静: 神经质 low, 外倾性 high, 开放性 high, 亲和性 high, 尽责性 high\\n方一凡: 神经质 low, 外倾性 high, 开放性 high, 亲和性 high, 尽责性 low\\n李老师: 神经质 low, 外倾性 high, 开放性 low, 亲和性 high, 尽责性 high\\n校长: 神经质 low, 外倾性 low, 开放性 low, 亲和性 high, 尽责性 high\\n童文洁: 神经质 high, 外倾性 high, 开放性 low, 亲和性 low, 尽责性 high\\n'}]"
      ]
     },
     "execution_count": 12,
     "metadata": {},
     "output_type": "execute_result"
    }
   ],
   "source": [
    "\n",
    "res = [{\n",
    "    \"role\": \"system\",\n",
    "    \"content\": \"接下来，我将提供给你一段对话，对话的人数不确定。不过格式如下。'\\n童文洁: 真巧\\n童文洁: 车没事了\\n刘静: 是你呀 没事了没事 谢谢你\\n'。然后你需要提供对话人物的大五人格的维度属于高还是低。比如你需要回复，'童文洁: 神经质 high, 外倾性 high, 开放性 high, 亲和性 low, 尽责性 low\\n刘静: 神经质 low, 外倾性 high, 开放性 high, 亲和性 high, 尽责性 high\\n'\"\n",
    "}] # 结果保存\n",
    "for i in np.unique(msg_train_data[\"TV_ID\"]):\n",
    "    tmp_a = msg_train_data[msg_train_data[\"TV_ID\"] == i] # 获取当前的对话ID所对应样本\n",
    "    \n",
    "    comm = \"\"\n",
    "    gpt = \"\"\n",
    "    for j, row in tmp_a.iterrows():\n",
    "        comm += \"{}: {}\\n\".format(row[\"Speaker\"], row[\"Utterance\"])\n",
    "    res.append({\n",
    "        \"role\": \"user\",\n",
    "        \"content\": comm\n",
    "    })\n",
    "    for v in np.unique(tmp_a[\"Speaker\"]):\n",
    "        gpt += \"{}: {}\\n\".format(v, \"神经质 {}, 外倾性 {}, 开放性 {}, 亲和性 {}, 尽责性 {}\".format(\n",
    "            np.unique(tmp_a[tmp_a[\"Speaker\"] == v][\"Neuroticism\"])[0],\n",
    "            np.unique(tmp_a[tmp_a[\"Speaker\"] == v][\"Extraversion\"])[0],\n",
    "            np.unique(tmp_a[tmp_a[\"Speaker\"] == v][\"Openness\"])[0],\n",
    "            np.unique(tmp_a[tmp_a[\"Speaker\"] == v][\"Agreeableness\"])[0],\n",
    "            np.unique(tmp_a[tmp_a[\"Speaker\"] == v][\"Conscientiousness\"])[0]\n",
    "        ))\n",
    "    res.append({\n",
    "        \"role\": \"assistant\",\n",
    "        \"content\": gpt\n",
    "    })\n",
    "res"
   ]
  },
  {
   "cell_type": "markdown",
   "metadata": {},
   "source": [
    "# Test"
   ]
  },
  {
   "cell_type": "code",
   "execution_count": 10,
   "metadata": {},
   "outputs": [
    {
     "data": {
      "text/html": [
       "<div>\n",
       "<style scoped>\n",
       "    .dataframe tbody tr th:only-of-type {\n",
       "        vertical-align: middle;\n",
       "    }\n",
       "\n",
       "    .dataframe tbody tr th {\n",
       "        vertical-align: top;\n",
       "    }\n",
       "\n",
       "    .dataframe thead th {\n",
       "        text-align: right;\n",
       "    }\n",
       "</style>\n",
       "<table border=\"1\" class=\"dataframe\">\n",
       "  <thead>\n",
       "    <tr style=\"text-align: right;\">\n",
       "      <th></th>\n",
       "      <th>TV_ID</th>\n",
       "      <th>Dialogue_ID</th>\n",
       "      <th>Utterance_ID</th>\n",
       "      <th>Speaker</th>\n",
       "      <th>Gender</th>\n",
       "      <th>Age</th>\n",
       "      <th>Neuroticism</th>\n",
       "      <th>Extraversion</th>\n",
       "      <th>Openness</th>\n",
       "      <th>Agreeableness</th>\n",
       "      <th>Conscientiousness</th>\n",
       "      <th>Scene</th>\n",
       "      <th>FacePosition_LU</th>\n",
       "      <th>FacePosition_RD</th>\n",
       "      <th>Sentiment</th>\n",
       "      <th>Emotion</th>\n",
       "      <th>DA</th>\n",
       "      <th>Utterance</th>\n",
       "    </tr>\n",
       "  </thead>\n",
       "  <tbody>\n",
       "    <tr>\n",
       "      <th>0</th>\n",
       "      <td>27</td>\n",
       "      <td>27_000</td>\n",
       "      <td>27_000_000</td>\n",
       "      <td>林宛瑜</td>\n",
       "      <td>female</td>\n",
       "      <td>young</td>\n",
       "      <td>low</td>\n",
       "      <td>high</td>\n",
       "      <td>high</td>\n",
       "      <td>high</td>\n",
       "      <td>high</td>\n",
       "      <td>car</td>\n",
       "      <td>488_14</td>\n",
       "      <td>654_204</td>\n",
       "      <td>neutral</td>\n",
       "      <td>neutral</td>\n",
       "      <td>statement-non-opinion</td>\n",
       "      <td>好了没事了</td>\n",
       "    </tr>\n",
       "    <tr>\n",
       "      <th>1</th>\n",
       "      <td>27</td>\n",
       "      <td>27_000</td>\n",
       "      <td>27_000_001</td>\n",
       "      <td>林宛瑜</td>\n",
       "      <td>female</td>\n",
       "      <td>young</td>\n",
       "      <td>low</td>\n",
       "      <td>high</td>\n",
       "      <td>high</td>\n",
       "      <td>high</td>\n",
       "      <td>high</td>\n",
       "      <td>car</td>\n",
       "      <td>481_47</td>\n",
       "      <td>613_244</td>\n",
       "      <td>neutral</td>\n",
       "      <td>neutral</td>\n",
       "      <td>thanking</td>\n",
       "      <td>谢谢你哦</td>\n",
       "    </tr>\n",
       "  </tbody>\n",
       "</table>\n",
       "</div>"
      ],
      "text/plain": [
       "   TV_ID Dialogue_ID Utterance_ID Speaker  Gender    Age Neuroticism  \\\n",
       "0     27      27_000   27_000_000     林宛瑜  female  young         low   \n",
       "1     27      27_000   27_000_001     林宛瑜  female  young         low   \n",
       "\n",
       "  Extraversion Openness Agreeableness Conscientiousness Scene FacePosition_LU  \\\n",
       "0         high     high          high              high   car          488_14   \n",
       "1         high     high          high              high   car          481_47   \n",
       "\n",
       "  FacePosition_RD Sentiment  Emotion                     DA Utterance  \n",
       "0         654_204   neutral  neutral  statement-non-opinion     好了没事了  \n",
       "1         613_244   neutral  neutral               thanking      谢谢你哦  "
      ]
     },
     "execution_count": 10,
     "metadata": {},
     "output_type": "execute_result"
    }
   ],
   "source": [
    "msg_test_data = pd.read_csv(\"../data/CPED/test_split.csv\")\n",
    "msg_test_data = msg_test_data.iloc[0:200]\n",
    "msg_test_data.head(2)"
   ]
  },
  {
   "cell_type": "code",
   "execution_count": 13,
   "metadata": {},
   "outputs": [
    {
     "name": "stdout",
     "output_type": "stream",
     "text": [
      "{'role': 'assistant', 'content': '其他: 神经质 unknown, 外倾性 unknown, 开放性 unknown, 亲和性 unknown, 尽责性 unknown\\n吕子乔: 神经质 low, 外倾性 high, 开放性 high, 亲和性 high, 尽责性 low\\n曾小贤: 神经质 high, 外倾性 high, 开放性 low, 亲和性 high, 尽责性 low\\n林宛瑜: 神经质 low, 外倾性 high, 开放性 high, 亲和性 high, 尽责性 high\\n胡一菲: 神经质 low, 外倾性 high, 开放性 low, 亲和性 low, 尽责性 high\\n陆展博: 神经质 high, 外倾性 low, 开放性 high, 亲和性 high, 尽责性 high\\n'}\n"
     ]
    },
    {
     "data": {
      "text/plain": [
       "[{'role': 'system',\n",
       "  'content': \"接下来，我将提供给你一段对话，对话的人数不确定。不过格式如下。'\\n童文洁: 真巧\\n童文洁: 车没事了\\n刘静: 是你呀 没事了没事 谢谢你\\n'。然后你需要提供对话人物的大五人格的维度属于高还是低。比如你需要回复，'童文洁: 神经质 high, 外倾性 high, 开放性 high, 亲和性 low, 尽责性 low\\n刘静: 神经质 low, 外倾性 high, 开放性 high, 亲和性 high, 尽责性 high\\n'\"},\n",
       " {'role': 'user',\n",
       "  'content': '童文洁: 真巧\\n童文洁: 车没事了\\n刘静: 是你呀 没事了没事 谢谢你\\n童文洁: 没事没事 你也去春风\\n刘静: 对\\n童文洁: 你孩子也在这上学\\n刘静: 对呀\\n童文洁: 真巧 我儿子也在这\\n童文洁: 你孩子几年级\\n刘静: 高三了\\n童文洁: 哪个班\\n刘静: 三班啊\\n童文洁: 我儿子也三班\\n童文洁: 我儿子叫方一凡\\n童文洁: 你孩子叫什么\\n刘静: 我儿子叫季杨杨\\n童文洁: 季杨杨，好像我听凡凡说过\\n童文洁: 对\\n童文洁: 是不是每次开家长会来的都是他爸爸\\n刘静: 那是他舅舅\\n童文洁: 我说呢这么年轻\\n方一凡: 妈\\n童文洁: 你不要叫我妈\\n童文洁: 我不是你妈\\n方一凡: 妈，我错了\\n童文洁: 你没错\\n童文洁: 我错了\\n童文洁: 我为什么要生你\\n童文洁: 我吃饱了撑的我就不该生你\\n童文洁: 方一凡我真的不明白你脑子里面天天在想什么\\n童文洁: 你是不是真的不知道现在高几了\\n童文洁: 你不知道我告诉你\\n童文洁: 你现在高三了\\n童文洁: 不再是高一高二了\\n童文洁: 你说\\n童文洁: 你说你 天天天天\\n童文洁: 学习不灵，打架门清，一个暑假我给你报个补习班\\n童文洁: 原指望你好好学习能上去\\n童文洁: 结果断崖式的下滑\\n童文洁: 你对得起我吗\\n童文洁: 妈妈高三那年妈妈怎么跟你讲的吗\\n方一凡: 数学92\\n方一凡: 化学91\\n方一凡: 除了英语一般般\\n方一凡: 其他都特别棒\\n童文洁: 你为什么一点不随妈妈\\n童文洁: 凡凡\\n方一凡: 我随我爸爸\\n童文洁: 你也没随你爸\\n童文洁: 你爸也是学霸\\n童文洁: 当年成绩也很好\\n童文洁: 这两年才堕落的\\n童文洁: 才玩物丧志的\\n童文洁: 还给你搞什么乌龟\\n方一凡: 烤鸭其实我给你一点你知道吧\\n方一凡: 一会你就多吃点\\n方一凡: 你把那一只烤鸭都吃了\\n方一凡: 然后再多喝点鸭汤\\n方一凡: 败败火\\n方一凡: 然后咱不是说好还得去趟超市吗\\n童文洁: 方一凡你什么都能记住\\n童文洁: 又是超市又是烤鸭\\n童文洁: 你就是不记住你的学习上的事\\n童文洁: 是不是\\n方一凡: 妈其实我都帮你记着\\n方一凡: 不是你说的吗\\n方一凡: 说你的学霸弟弟要来了\\n方一凡: 你得好好照顾他\\n方一凡: 不能让他在学校被欺负了\\n方一凡: 咱们正好要去超市给他买点什么生活用品什么的\\n方一凡: 别来了没有\\n方一凡: 我都帮你记得了\\n方一凡: 别生气了\\n童文洁: 凡凡，磊磊来了\\n童文洁: 你真的要懂事一些\\n童文洁: 磊磊妈妈走了\\n童文洁: 他爸爸对他不怎么样也不上心\\n童文洁: 摊上那么个后妈\\n童文洁: 磊磊来了你要跟他好好相处\\n童文洁: 要好好向他学习\\n童文洁: 磊磊等于跟你是有1/4血缘关系的\\n童文洁: 真等于亲兄弟\\n童文洁: 你听到没有\\n方一凡: 听到\\n方一凡: 妈\\n方一凡: 他要来北京参加高考啊\\n方一凡: 他有北京户口吗\\n童文洁: 你操这个心干什么\\n童文洁: 该你操心的你不操心\\n童文洁: 不该你操心的你瞎操心\\n童文洁: 他怎么没有北京户口\\n童文洁: 你大姨他当年嫁到福建的时候\\n童文洁: 户口没调过去\\n童文洁: 他随你大姨一直留在北京的户口就在咱们家\\n方一凡: 你早跟我说不就完了吗\\n童文洁: 你问我了吗\\n校长: 李老师\\n校长: 坐吧\\n校长: 李老师高三学生蹲班的事情\\n校长: 我想再跟你沟通一下\\n校长: 我们校领导班组昨天专门开会\\n校长: 就这个问题也进行了上会讨论\\n校长: 最后一致认为不能开蹲班这个口子\\n校长: 这届学生都正常升入高三\\n李老师: 校长我之前在动员会上已经强调过了\\n李老师: 我提议让部分学生蹲班是基于这一届学生的实际情况而来的\\n李老师: 这一届学生里边尾部的学生成绩离本科线差距确实是很大\\n李老师: 所以我是担心\\n校长: 我知道你担心什么李老师\\n校长: 你担心升学率\\n校长: 本科率对不对\\n校长: 你也带了这么多年的高三教学成绩可以说是有目共睹\\n校长: 作为校长\\n校长: 我应该特别感谢你的付出和努力\\n校长: 但是我也希望你能明白一点\\n校长: 高考成绩确实重要\\n校长: 但高考本身它只是一个过程\\n校长: 我们教书育人\\n校长: 核心就是培养我们的学生\\n校长: 让他们成才\\n校长: 而不是一味的追求升学率的数字\\n李老师: 校长您说的这些我都明白\\n李老师: 而且我觉得这两者之间并不冲突\\n李老师: 对于升学率这个问题\\n李老师: 我觉得你对我有误会\\n李老师: 我不是一味的追求升学率\\n李老师: 这个事我只是希望能够对待每一个同学都能因材施教\\n李老师: 制定一个最适合他们的教学方式\\n李老师: 你与其让这些没有准备好的孩子去经历一次高考的失败\\n李老师: 你莫不如给他们多一些时间让他们做准备\\n校长: 但是李老师你有没有考虑过蹲班留级这样的事情\\n校长: 对一个学生来说\\n校长: 可能会造成怎样的心理阴影\\n校长: 咱们换位思考\\n校长: 如果是你你真的愿意接受学校这样的安排吗\\n校长: 李老师作为年轻教师\\n校长: 你有拼劲\\n校长: 有闯劲\\n校长: 有拼搏的劲头\\n校长: 我们都很认可\\n校长: 但是如今高中生的培养\\n校长: 心理层面的教育跟学科层面的教育一样重要\\n校长: 这一点作为年级组长的你更应该清楚\\n校长: 更应该掌握好\\n校长: 我们做老师的还是要相信所有的教育都会有收获的那一天\\n李老师: 行 校长\\n李老师: 我明白了\\n李老师: 我一会就去通知各个家长\\n李老师: 然后重新沟通一下这个事情\\n李老师: 我也会告诉各个班的班主任做好后续的跟进工作\\n校长: 好\\n校长: 李老师我是充分相信你和全体高三老师的能力\\n校长: 我相信这一届高三学生到毕业那天同样会非常出色\\n刘铮: 正等着你\\n刘铮: 那什么，处理完了，没事了吧\\n刘静: 都是你惯的\\n刘静: 没事你给他什么车\\n刘铮: 没说给他就让他开一下\\n刘铮: 我这不答应杨杨，他拿到驾照\\n刘铮: 让他开一开车\\n刘静: 你这样会把他惯坏的知道吗\\n刘静: 要什么给什么\\n刘静: 姥姥姥爷也是的\\n刘静: 什么都由着\\n刘静: 是害了他知道吗\\n刘铮: 是，这点我完全同意\\n刘铮: 但是姥姥姥爷宠着\\n刘铮: 那是因为你们常年不在怕委屈了孩子\\n刘铮: 没事啊\\n刘铮: 这问题马上解决了\\n刘铮: 你们住在一块\\n刘铮: 慢慢严格要求\\n刘静: 现在严格要求就怕来不及了\\n刘静: 他根本都不听我的\\n刘静: 就别说他爸爸了\\n刘静: 三句话不过就翻车了\\n刘静: 刘铮\\n刘静: 他是不是老跟你说\\n刘静: 不想跟我们在一块住\\n刘铮: 孩子的话不能往心里头去\\n刘铮: 杨杨是个聪明孩子\\n刘铮: 要怪只能说你们之前陪伴的少\\n刘铮: 人发发牢骚也是正常的\\n刘铮: 是不是\\n刘铮: 没事\\n刘铮: 等他住在一块慢慢就好了\\n刘铮: 你真能定吗\\n刘静: 合适\\n刘铮: 你要能定的话\\n刘铮: 我就找人帮你打扫了\\n刘铮: 另外我姐夫不是喜欢中式家具吗\\n刘铮: 我得搞一套给搁里头\\n刘静: 别\\n刘静: 你姐夫他就怕招摇\\n刘静: 你千万别给他弄那么贵的中式家具\\n刘静: 不用\\n刘铮: 放心\\n刘铮: 我保证找一套实惠便宜保证不招摇的好吧\\n刘铮: 这事你甭管了\\n刘铮: 我来办\\n'},\n",
       " {'role': 'assistant',\n",
       "  'content': '刘铮: 神经质 low, 外倾性 high, 开放性 high, 亲和性 high, 尽责性 high\\n刘静: 神经质 low, 外倾性 high, 开放性 high, 亲和性 high, 尽责性 high\\n方一凡: 神经质 low, 外倾性 high, 开放性 high, 亲和性 high, 尽责性 low\\n李老师: 神经质 low, 外倾性 high, 开放性 low, 亲和性 high, 尽责性 high\\n校长: 神经质 low, 外倾性 low, 开放性 low, 亲和性 high, 尽责性 high\\n童文洁: 神经质 high, 外倾性 high, 开放性 low, 亲和性 low, 尽责性 high\\n'},\n",
       " {'role': 'user',\n",
       "  'content': '林宛瑜: 好了没事了\\n林宛瑜: 谢谢你哦\\n陆展博: 没关系\\n林宛瑜: 喂\\n林宛瑜: 没事吧\\n林宛瑜: 借你这儿躲一下\\n林宛瑜: 不至于吧\\n陆展博: 你踩着我的脚了\\n林宛瑜: 不好意思\\n陆展博: 没关系\\n林宛瑜: 谢谢你\\n陆展博: 刚才那些坏人是谁\\n林宛瑜: 他们是坏人 很坏的人\\n林宛瑜: 叫我宛瑜吧\\n陆展博: 我叫展博\\n林宛瑜: 我们算认识了\\n林宛瑜: 你是来出差的吗\\n陆展博: 我刚从国外留学回来\\n林宛瑜: 学什么呀\\n陆展博: 计算机\\n陆展博: 我从小就在那念书\\n陆展博: 好久没回来了\\n林宛瑜: 你呢\\n林宛瑜: 我是来寻宝的\\n陆展博: 寻宝\\n林宛瑜: 我要找一个地方名字叫做爱情公寓\\n陆展博: 爱情公寓\\n林宛瑜: 对\\n林宛瑜: 你知道啊\\n陆展博: 从没听说过\\n陆展博: 你的藏宝图呢\\n林宛瑜: 什么图\\n陆展博: 你都说了是寻宝了\\n陆展博: 一定有藏宝图\\n林宛瑜: 我只带了这个\\n陆展博: 我说是藏宝图\\n陆展博: 你给我地图\\n陆展博: 这还是张世界地图\\n林宛瑜: 我要有藏宝图的话\\n林宛瑜: 还用找 直接坐计程车去不就好了\\n陆展博: 你可以找我姐姐\\n陆展博: 她这人超热心\\n陆展博: 说不定能帮上你\\n林宛瑜: 真的吗\\n陆展博: 我姐姐是大学老师\\n陆展博: 本来她应该今天来接我的\\n陆展博: 可听说她要做一场什么婚礼的总导演\\n陆展博: 我就只能自己坐车过去\\n林宛瑜: 导演\\n林宛瑜: 那她一定很厉害吧\\n陆展博: 我也好久没见她了\\n陆展博: 在我的印象里\\n陆展博: 记忆最深刻的就是她的眼睛明亮、睿智\\n陆展博: 还有他的手纤细温暖\\n陆展博: 我猜她现在一定比几年前更优雅一点\\n陆展博: 人们都亲切的用8个字来形容她\\n陆展博: 静若处子\\n陆展博: 动若疯兔\\n曾小贤: 您好\\n其他: 曾老师吗\\n曾小贤: 好男人就是我\\n曾小贤: 我就是曾小贤\\n其他: 我听了你的故事很感动\\n其他: 可是你说的那人运气也忒好了点\\n曾小贤: 千万别这么说\\n曾小贤: 爱情就是这样\\n曾小贤: 当你不知不觉的时候\\n曾小贤: 他就来到了你的身边\\n其他: 可我总是时运不济怎么办\\n曾小贤: 这位听众\\n曾小贤: 没有一个人会永远走运\\n曾小贤: 也没有一个人会永远走背运\\n曾小贤: 只要你坚定\\n其他: 你是不知道啊\\n其他: 吃馄饨\\n其他: 吃出樟脑丸\\n其他: 打苍蝇手拍在钉子上去\\n其他: 去青松观烧烧香\\n其他: 手机掉到功德箱里拿不出来了\\n其他: 这还不算啥\\n其他: 刚才我听了你的故事\\n其他: 我就想知道我隔壁住的是不是就是我的另一半\\n曾小贤: 很好\\n曾小贤: 勇敢的迈出第一步\\n曾小贤: 你就会发现你会有意想不到的收获\\n其他: 所以我刚才在那面墙上打了个洞\\n其他: 你猜我后来看到了谁\\n曾小贤: 你的另一半\\n其他: 看到了物业和保安\\n曾小贤: 这位听众\\n曾小贤: 当你在打穿那堵墙之前\\n曾小贤: 你应该先确认一下他是不是一堵承重墙\\n其他: 不是你说让我砸墙了吗\\n其他: 不早说他们现在要罚我的钱了怎么办\\n其他: 你听得见吗\\n其他: 先生您好\\n其他: 先生您好\\n吕子乔: 你好\\n其他: 您的礼金呢\\n吕子乔: 我差点忘了\\n其他: 这是什么\\n吕子乔: 礼金又怎么能表达我对两位新人的祝福\\n吕子乔: 再说了人人都送礼金\\n吕子乔: 太俗了\\n吕子乔: 我这个礼物可是时下最高新科技的结晶\\n吕子乔: 乔氏神功丸\\n其他: 保健品\\n吕子乔: 你错了\\n吕子乔: 它是由澳大利亚最上层的天然原材料提炼而成\\n吕子乔: 运用了纳米技术\\n吕子乔: 高温冷提取技术\\n吕子乔: 还有克隆技术\\n吕子乔: 每一颗圣神功丸都富含人体所需的营养元素\\n其他: 这么好\\n其他: 他有什么用处的\\n吕子乔: 准确来说\\n吕子乔: 它是一个可以激发人类美好生活向往的床上用品\\n其他: 床上用品\\n吕子乔: 价格公道\\n吕子乔: 破盘价只卖998\\n吕子乔: 今天大喜日子我就只收你500了\\n吕子乔: 剩下的就当我的礼金了\\n吕子乔: 礼物我放这了\\n吕子乔: 找零\\n吕子乔: 我自己拿咯\\n吕子乔: 哪来这么大榔头\\n其他: 你这个流氓 再捣乱我就喊人了\\n吕子乔: 飞碟\\n曾小贤: 胡一菲同志我有话想跟你说\\n胡一菲: 快点说\\n胡一菲: 没看我这正忙着吗\\n曾小贤: 我希望你在指挥的时候能不能有一点团队意识\\n胡一菲: 我不明白你的意思\\n胡一菲: 我的团队很好\\n胡一菲: 有条不紊的\\n曾小贤: 我指的团队是指参加策划组织这次婚礼的其他成员\\n胡一菲: 比如说\\n曾小贤: 比如说我\\n胡一菲: 噢 你是主持的\\n胡一菲: 等我这边忙完了会来找你开会的\\n曾小贤: 我想强调一下\\n曾小贤: 我是主持人\\n曾小贤: 不是报幕员\\n胡一菲: 有区别吗\\n曾小贤: 当然有区别\\n曾小贤: 我想新郎委派我来当主持人\\n曾小贤: 是希望由我来控制整个婚礼的现场流程\\n胡一菲: 我想新娘委派我来担当这次婚礼的总导演\\n胡一菲: 是希望我来掌控现场的所有事情\\n胡一菲: 包括主持人\\n曾小贤: 好 好\\n曾小贤: 你既然已经看过了我的演讲稿和我的计划安排\\n曾小贤: 为什么你还\\n曾小贤: 你还没有看过对不对\\n胡一菲: 谁说我没看过\\n胡一菲: 我只是觉得你的那套不是很合适这场婚礼\\n胡一菲: 哪个奇怪大叔写的旧社会婚礼方案 解放这么多年了\\n胡一菲: 不能用的\\n曾小贤: 再怎么奇怪\\n曾小贤: 也比你变态大妈的计划要好吧\\n曾小贤: 我怎么看你都想把婚礼办成一个动物狂欢节\\n胡一菲: 等有空了我再听你叫唤\\n曾小贤: 站住\\n曾小贤: 新郎是我朝夕相处的室友\\n曾小贤: 我希望给他一个完美的没有遗憾的婚礼\\n胡一菲: 新娘\\n胡一菲: 可是我大学就在一起的闺中姐妹\\n胡一菲: 我不允许她的婚礼一板一眼\\n胡一菲: 毫无特色\\n曾小贤: 这就是你所谓的特色\\n曾小贤: 你说你弄那么多假洋鬼子来干嘛\\n曾小贤: 新郎新娘又不是外国人\\n曾小贤: 搞不清楚的还以为要嫁到墨西哥去\\n胡一菲: 这样子我说我要是弄点这企鹅过来\\n胡一菲: 新娘还得嫁到南极\\n胡一菲: 是不是\\n胡一菲: 你的方案好 一拜天 二拜地\\n胡一菲: 你这是结婚还是上坟对吧\\n曾小贤: 中国传统 天经地义\\n胡一菲: 不好意思\\n胡一菲: 传统我已经改成西式的\\n胡一菲: 我请了圣母安福会的神父\\n胡一菲: 一定会有一个圣洁的仪式的\\n曾小贤: 那就是不用我主持了\\n胡一菲: 这怎么行 热场节目的时候你可以报幕嘛\\n曾小贤: 作为导演\\n曾小贤: 你应该考虑到每一个来宾的感受\\n胡一菲: 来宾都是我请的\\n曾小贤: 我也有请 我在节目里都做了广告了\\n曾小贤: 我最好的朋友要结婚\\n曾小贤: 会有很多我的粉丝来捧我的\\n胡一菲: 人家的粉丝名字多好听\\n胡一菲: 什么玉米凉粉的\\n胡一菲: 偏偏有个人的粉丝叫咸菜\\n胡一菲: 怎么听着都觉得让人寒酸的想掉眼泪\\n曾小贤: 他们一定会支持我的\\n胡一菲: 那你就走着瞧\\n其他: 年纪大了\\n其他: 肠胃不好\\n吕子乔: 我父亲也有这样的毛病\\n'}]"
      ]
     },
     "execution_count": 13,
     "metadata": {},
     "output_type": "execute_result"
    }
   ],
   "source": [
    "for i in np.unique(msg_test_data[\"TV_ID\"]):\n",
    "    tmp_a = msg_test_data[msg_test_data[\"TV_ID\"] == i] # 获取当前的对话ID所对应样本\n",
    "    \n",
    "    comm = \"\"\n",
    "    gpt = \"\"\n",
    "    for j, row in tmp_a.iterrows():\n",
    "        comm += \"{}: {}\\n\".format(row[\"Speaker\"], row[\"Utterance\"])\n",
    "    res.append({\n",
    "        \"role\": \"user\",\n",
    "        \"content\": comm\n",
    "    })\n",
    "    for v in np.unique(tmp_a[\"Speaker\"]):\n",
    "        gpt += \"{}: {}\\n\".format(v, \"神经质 {}, 外倾性 {}, 开放性 {}, 亲和性 {}, 尽责性 {}\".format(\n",
    "            np.unique(tmp_a[tmp_a[\"Speaker\"] == v][\"Neuroticism\"])[0],\n",
    "            np.unique(tmp_a[tmp_a[\"Speaker\"] == v][\"Extraversion\"])[0],\n",
    "            np.unique(tmp_a[tmp_a[\"Speaker\"] == v][\"Openness\"])[0],\n",
    "            np.unique(tmp_a[tmp_a[\"Speaker\"] == v][\"Agreeableness\"])[0],\n",
    "            np.unique(tmp_a[tmp_a[\"Speaker\"] == v][\"Conscientiousness\"])[0]\n",
    "        ))\n",
    "    print({\n",
    "        \"role\": \"assistant\",\n",
    "        \"content\": gpt\n",
    "    })\n",
    "res"
   ]
  },
  {
   "cell_type": "code",
   "execution_count": 14,
   "metadata": {},
   "outputs": [
    {
     "data": {
      "text/plain": [
       "'林宛瑜: 神经质 low, 外倾性 high, 开放性 high, 亲和性 high, 尽责性 high\\n陆展博: 神经质 low, 外倾性 high, 开放性 high, 亲和性 high, 尽责性 high\\n曾小贤: 神经质 low, 外倾性 high, 开放性 high, 亲和性 high, 尽责性 high\\n胡一菲: 神经质 high, 外倾性 high, 开放性 high, 亲和性 low, 尽责性 high\\n吕子乔: 神经质 low, 外倾性 high, 开放性 high, 亲和性 high, 尽责性 low\\n其他: 神经质 low, 外倾性 low, 开放性 low, 亲和性 low, 尽责性 low'"
      ]
     },
     "execution_count": 14,
     "metadata": {},
     "output_type": "execute_result"
    }
   ],
   "source": [
    "askChatGPT(res)"
   ]
  },
  {
   "attachments": {},
   "cell_type": "markdown",
   "metadata": {},
   "source": [
    "### 真实\n",
    "吕子乔: 神经质 low, 外倾性 high, 开放性 high, 亲和性 high, 尽责性 low\n",
    "曾小贤: 神经质 high, 外倾性 high, 开放性 low, 亲和性 high, 尽责性 low\n",
    "林宛瑜: 神经质 low, 外倾性 high, 开放性 high, 亲和性 high, 尽责性 high\n",
    "胡一菲: 神经质 low, 外倾性 high, 开放性 low, 亲和性 low, 尽责性 high\n",
    "陆展博: 神经质 high, 外倾性 low, 开放性 high, 亲和性 high, 尽责性 high\n",
    "其他: 神经质 unknown, 外倾性 unknown, 开放性 unknown, 亲和性 unknown, 尽责性 unknown\n",
    "\n",
    "完了，我开始相信AI的标注了。因为爱情公寓第一季里面 曾小贤的扮演者 还没火，整体的感觉应该是 并不是那种 喜剧风格的神经质。"
   ]
  },
  {
   "attachments": {},
   "cell_type": "markdown",
   "metadata": {},
   "source": [
    "### GPT\n",
    "吕子乔: 神经质 low, 外倾性 high, 开放性 high, 亲和性 high, 尽责性 low\n",
    "曾小贤: 神经质 low, 外倾性 high, 开放性 high, 亲和性 high, 尽责性 high\n",
    "林宛瑜: 神经质 low, 外倾性 high, 开放性 high, 亲和性 high, 尽责性 high\n",
    "胡一菲: 神经质 high, 外倾性 high, 开放性 high, 亲和性 low, 尽责性 high\n",
    "陆展博: 神经质 low, 外倾性 high, 开放性 high, 亲和性 high, 尽责性 high\n",
    "其他: 神经质 low, 外倾性 low, 开放性 low, 亲和性 low, 尽责性 low"
   ]
  },
  {
   "cell_type": "code",
   "execution_count": 18,
   "metadata": {},
   "outputs": [
    {
     "data": {
      "text/plain": [
       "Speaker\n",
       "其他     30\n",
       "吕子乔    25\n",
       "曾小贤    50\n",
       "林宛瑜    25\n",
       "胡一菲    37\n",
       "陆展博    33\n",
       "Name: Utterance, dtype: int64"
      ]
     },
     "execution_count": 18,
     "metadata": {},
     "output_type": "execute_result"
    }
   ],
   "source": [
    "tmp_a.groupby([\"Speaker\"])[\"Utterance\"].count()"
   ]
  }
 ],
 "metadata": {
  "kernelspec": {
   "display_name": "base",
   "language": "python",
   "name": "python3"
  },
  "language_info": {
   "codemirror_mode": {
    "name": "ipython",
    "version": 3
   },
   "file_extension": ".py",
   "mimetype": "text/x-python",
   "name": "python",
   "nbconvert_exporter": "python",
   "pygments_lexer": "ipython3",
   "version": "3.9.16"
  },
  "orig_nbformat": 4,
  "vscode": {
   "interpreter": {
    "hash": "8c83757f6c30423986c3fbe55670954346c835ad41fee96d431030808e97aca6"
   }
  }
 },
 "nbformat": 4,
 "nbformat_minor": 2
}
