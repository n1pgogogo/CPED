{
 "cells": [
  {
   "cell_type": "code",
   "execution_count": 1,
   "metadata": {},
   "outputs": [
    {
     "data": {
      "text/html": [
       "<div>\n",
       "<style scoped>\n",
       "    .dataframe tbody tr th:only-of-type {\n",
       "        vertical-align: middle;\n",
       "    }\n",
       "\n",
       "    .dataframe tbody tr th {\n",
       "        vertical-align: top;\n",
       "    }\n",
       "\n",
       "    .dataframe thead th {\n",
       "        text-align: right;\n",
       "    }\n",
       "</style>\n",
       "<table border=\"1\" class=\"dataframe\">\n",
       "  <thead>\n",
       "    <tr style=\"text-align: right;\">\n",
       "      <th></th>\n",
       "      <th>Speaker</th>\n",
       "      <th>Neuroticism</th>\n",
       "      <th>Extraversion</th>\n",
       "      <th>Openness</th>\n",
       "      <th>Agreeableness</th>\n",
       "      <th>Conscientiousness</th>\n",
       "      <th>Utterance</th>\n",
       "    </tr>\n",
       "  </thead>\n",
       "  <tbody>\n",
       "    <tr>\n",
       "      <th>0</th>\n",
       "      <td>于春晓</td>\n",
       "      <td>high</td>\n",
       "      <td>high</td>\n",
       "      <td>low</td>\n",
       "      <td>high</td>\n",
       "      <td>high</td>\n",
       "      <td>怎么了</td>\n",
       "    </tr>\n",
       "  </tbody>\n",
       "</table>\n",
       "</div>"
      ],
      "text/plain": [
       "  Speaker Neuroticism Extraversion Openness Agreeableness Conscientiousness  \\\n",
       "0     于春晓        high         high      low          high              high   \n",
       "\n",
       "  Utterance  \n",
       "0       怎么了  "
      ]
     },
     "execution_count": 1,
     "metadata": {},
     "output_type": "execute_result"
    }
   ],
   "source": [
    "import pandas as pd\n",
    "import numpy as np\n",
    "import os, json\n",
    "from core import start_calc, start\n",
    "\n",
    "df = pd.read_csv(\"../data/CPED/valid_split.csv\", usecols=[\"Speaker\", \"Utterance\",\n",
    "                                                          \"Neuroticism\", \"Extraversion\", \"Openness\",\n",
    "                                                          \"Agreeableness\", \"Conscientiousness\"])\n",
    "df = df[df[\"Agreeableness\"] != \"unknown\"] # 剔除没有人格的人物\n",
    "df.head(1)"
   ]
  },
  {
   "cell_type": "code",
   "execution_count": 2,
   "metadata": {},
   "outputs": [
    {
     "data": {
      "text/html": [
       "<div>\n",
       "<style scoped>\n",
       "    .dataframe tbody tr th:only-of-type {\n",
       "        vertical-align: middle;\n",
       "    }\n",
       "\n",
       "    .dataframe tbody tr th {\n",
       "        vertical-align: top;\n",
       "    }\n",
       "\n",
       "    .dataframe thead th {\n",
       "        text-align: right;\n",
       "    }\n",
       "</style>\n",
       "<table border=\"1\" class=\"dataframe\">\n",
       "  <thead>\n",
       "    <tr style=\"text-align: right;\">\n",
       "      <th></th>\n",
       "      <th>Speaker</th>\n",
       "      <th>Neuroticism</th>\n",
       "      <th>Extraversion</th>\n",
       "      <th>Openness</th>\n",
       "      <th>Agreeableness</th>\n",
       "      <th>Conscientiousness</th>\n",
       "    </tr>\n",
       "  </thead>\n",
       "  <tbody>\n",
       "    <tr>\n",
       "      <th>6946</th>\n",
       "      <td>安娜</td>\n",
       "      <td>high</td>\n",
       "      <td>high</td>\n",
       "      <td>low</td>\n",
       "      <td>high</td>\n",
       "      <td>high</td>\n",
       "    </tr>\n",
       "    <tr>\n",
       "      <th>6237</th>\n",
       "      <td>袁大头</td>\n",
       "      <td>low</td>\n",
       "      <td>high</td>\n",
       "      <td>high</td>\n",
       "      <td>high</td>\n",
       "      <td>low</td>\n",
       "    </tr>\n",
       "    <tr>\n",
       "      <th>2571</th>\n",
       "      <td>胡七星</td>\n",
       "      <td>low</td>\n",
       "      <td>high</td>\n",
       "      <td>high</td>\n",
       "      <td>high</td>\n",
       "      <td>high</td>\n",
       "    </tr>\n",
       "  </tbody>\n",
       "</table>\n",
       "</div>"
      ],
      "text/plain": [
       "     Speaker Neuroticism Extraversion Openness Agreeableness Conscientiousness\n",
       "6946      安娜        high         high      low          high              high\n",
       "6237     袁大头         low         high     high          high               low\n",
       "2571     胡七星         low         high     high          high              high"
      ]
     },
     "execution_count": 2,
     "metadata": {},
     "output_type": "execute_result"
    }
   ],
   "source": [
    "# 真实值\n",
    "r_real = pd.DataFrame([], columns=[\"Speaker\",\n",
    "                                   \"Neuroticism\", \"Extraversion\", \"Openness\",\n",
    "                                   \"Agreeableness\", \"Conscientiousness\"])\n",
    "for v, row in pd.DataFrame(df.groupby([\"Speaker\"])[\"Utterance\"].count()).sort_values(by=[\"Utterance\"], ascending=True).iloc[:, :].iterrows():\n",
    "    if not np.any(r_real[\"Speaker\"] == v):\n",
    "        # 保存真实值\n",
    "        tmpB = df[df[\"Speaker\"] == v].iloc[1, :]\n",
    "        r_real = pd.concat([r_real, pd.DataFrame(\n",
    "            [df[df[\"Speaker\"] == v].iloc[1, :-1]]\n",
    "        )])\n",
    "r_real.head(3)"
   ]
  },
  {
   "cell_type": "code",
   "execution_count": 3,
   "metadata": {},
   "outputs": [],
   "source": [
    "log_speaker = []\n",
    "log_send = []\n",
    "log_content = []\n",
    "for v, row in pd.DataFrame(\n",
    "    df.groupby([\"Speaker\"])[\"Utterance\"].count()).sort_values(by=[\"Utterance\"],\n",
    "                                                              ascending=True).iloc[:, :].iterrows():\n",
    "    use_sentence = \"\"\n",
    "    use_token = 0\n",
    "    for i, row_j in df[df[\"Speaker\"] == v].iterrows():\n",
    "        use_token_sub = start_calc(use_sentence + row_j[\"Utterance\"])\n",
    "        if use_token_sub > 3500:  # 如果新增的超出token了，清空一下\n",
    "            log_speaker.append(v)\n",
    "            log_send.append(use_sentence)\n",
    "            log_content.append(start(use_sentence))  # 咨询gpt\n",
    "            use_sentence = \"{}: {}\".format(v, row_j[\"Utterance\"])  # 重置句子\n",
    "        else:\n",
    "            use_sentence += \"\\n{}: {}\".format(v, row_j[\"Utterance\"])\n",
    "    log_speaker.append(v)\n",
    "    log_send.append(use_sentence)\n",
    "    log_content.append(start(use_sentence))  # 咨询gpt\n"
   ]
  },
  {
   "cell_type": "code",
   "execution_count": 4,
   "metadata": {},
   "outputs": [],
   "source": [
    "pd.DataFrame(\n",
    "    np.array([[log_speaker[i], log_send[i], log_content[i]] for i, v in enumerate(log_speaker)], dtype=np.str0),\n",
    "    columns=[\"Speaker\", \"Utter\", \"Res_Utter\"]).to_csv(\"../data/self/gpt3.5_5.csv\", index = False)"
   ]
  },
  {
   "attachments": {},
   "cell_type": "markdown",
   "metadata": {},
   "source": [
    "上面获取了gpt的结果，并进行了保存，下面就开始解析"
   ]
  },
  {
   "cell_type": "code",
   "execution_count": 70,
   "metadata": {},
   "outputs": [],
   "source": [
    "import re\n",
    "# 预测值\n",
    "r_pre = pd.DataFrame([], columns=[\"Speaker\",\n",
    "                                  \"Neuroticism\", \"Extraversion\", \"Openness\",\n",
    "                                  \"Agreeableness\", \"Conscientiousness\"])\n",
    "gpt_res = pd.read_csv(\"../data/self/gpt4_1.csv\")\n",
    "a = []\n",
    "for v, row in gpt_res.iterrows():\n",
    "    res_arr = re.findall(r\"\\{.*?\\}\", row[\"Res_Utter\"], re.S)\n",
    "    try:\n",
    "        arr = json.loads(res_arr[0])\n",
    "        r_pre = pd.concat([r_pre, pd.DataFrame([\n",
    "            [row[\"Speaker\"], arr[\"神经质\"], arr[\"外向性\"],\n",
    "                arr[\"开放性\"], arr[\"宜人性\"], arr[\"尽责性\"]]],\n",
    "            columns=[\"Speaker\",\n",
    "                     \"Neuroticism\", \"Extraversion\", \"Openness\",\n",
    "                     \"Agreeableness\", \"Conscientiousness\"])])\n",
    "    except:\n",
    "        continue"
   ]
  },
  {
   "cell_type": "code",
   "execution_count": 71,
   "metadata": {},
   "outputs": [],
   "source": [
    "# 转换为 0 0.5 1\n",
    "y_real = r_real\n",
    "y_pre = r_pre\n",
    "for v in [\"Neuroticism\", \"Extraversion\", \"Openness\",\"Agreeableness\", \"Conscientiousness\"]:\n",
    "    y_pre[v] = y_pre[v].replace({\"low\": 0, \"high\": 1, \"medium\": 0.5})\n",
    "    y_real[v] = y_real[v].replace({\"low\": 0, \"high\": 1, \"medium\": 0.5})\n",
    "\n",
    "y_pre = y_pre.groupby(by=[\"Speaker\"]).mean().applymap(lambda x: 1 if x > 0 else 0)\n",
    "y_real = y_real.groupby(by=[\"Speaker\"]).mean()\n",
    "\n",
    "# 让真实值和预测值之间的长度统一\n",
    "y_real = y_real.loc[[np.any(y_pre.index == i) for i in y_real.index],:]"
   ]
  },
  {
   "cell_type": "code",
   "execution_count": 72,
   "metadata": {},
   "outputs": [
    {
     "name": "stdout",
     "output_type": "stream",
     "text": [
      "Neuroticism\t0.5416666666666667\n",
      "Extraversion\t0.45833333333333337\n",
      "Openness\t0.625\n",
      "Agreeableness\t0.5\n",
      "Conscientiousness\t0.7916666666666666\n"
     ]
    }
   ],
   "source": [
    "for v in [\"Neuroticism\", \"Extraversion\", \"Openness\", \"Agreeableness\", \"Conscientiousness\"]:\n",
    "    print(v, end=\"\\t\")\n",
    "    print(1 - np.sum(\n",
    "        [abs(y_real[v][i] - y_pre[v][i]) for i in y_pre.index]) / y_pre.shape[0])"
   ]
  }
 ],
 "metadata": {
  "kernelspec": {
   "display_name": "base",
   "language": "python",
   "name": "python3"
  },
  "language_info": {
   "codemirror_mode": {
    "name": "ipython",
    "version": 3
   },
   "file_extension": ".py",
   "mimetype": "text/x-python",
   "name": "python",
   "nbconvert_exporter": "python",
   "pygments_lexer": "ipython3",
   "version": "3.9.16"
  },
  "orig_nbformat": 4,
  "vscode": {
   "interpreter": {
    "hash": "8c83757f6c30423986c3fbe55670954346c835ad41fee96d431030808e97aca6"
   }
  }
 },
 "nbformat": 4,
 "nbformat_minor": 2
}
