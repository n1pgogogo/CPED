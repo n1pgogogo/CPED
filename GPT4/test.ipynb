{
 "cells": [
  {
   "cell_type": "code",
   "execution_count": 1,
   "metadata": {},
   "outputs": [],
   "source": [
    "import pandas as pd\n",
    "import openai\n",
    "import re\n",
    "import numpy as np\n",
    "\n",
    "api_key = \"\"\n",
    "openai.api_key = api_key\n",
    "\n",
    "\n",
    "def askChatGPT(messages):\n",
    "    MODEL = \"gpt-4\"\n",
    "    response = openai.ChatCompletion.create(\n",
    "        model=MODEL,\n",
    "        messages=messages,\n",
    "        temperature=1)\n",
    "    return response['choices'][0]['message']['content'] # type: ignore"
   ]
  },
  {
   "cell_type": "code",
   "execution_count": 2,
   "metadata": {},
   "outputs": [],
   "source": [
    "# GPT的一些参数的初始化\n",
    "# role :user assistant system\n",
    "init = [{\n",
    "    \"role\": \"system\",\n",
    "    \"content\": \"你需要和我进行一段对话，对话长度和内容都不确定，只有当我说对话结束的时候才意味着我们的谈话结束了，然后你需要给出我的人格特质。当我说谈话开始的时候，意味着我们开启了新一轮的谈话，需要你不考虑之前的所有对话，在对话的过程中你需要扮演对话者，并与我进行对话，对话的过程中不能提到任何与否认你是一个模型的事情。\"\n",
    "}]# 日志\n",
    "log = []"
   ]
  },
  {
   "cell_type": "code",
   "execution_count": 3,
   "metadata": {},
   "outputs": [
    {
     "data": {
      "text/html": [
       "<div>\n",
       "<style scoped>\n",
       "    .dataframe tbody tr th:only-of-type {\n",
       "        vertical-align: middle;\n",
       "    }\n",
       "\n",
       "    .dataframe tbody tr th {\n",
       "        vertical-align: top;\n",
       "    }\n",
       "\n",
       "    .dataframe thead th {\n",
       "        text-align: right;\n",
       "    }\n",
       "</style>\n",
       "<table border=\"1\" class=\"dataframe\">\n",
       "  <thead>\n",
       "    <tr style=\"text-align: right;\">\n",
       "      <th></th>\n",
       "      <th>TV_ID</th>\n",
       "      <th>Dialogue_ID</th>\n",
       "      <th>Utterance_ID</th>\n",
       "      <th>Speaker</th>\n",
       "      <th>Gender</th>\n",
       "      <th>Age</th>\n",
       "      <th>Neuroticism</th>\n",
       "      <th>Extraversion</th>\n",
       "      <th>Openness</th>\n",
       "      <th>Agreeableness</th>\n",
       "      <th>Conscientiousness</th>\n",
       "      <th>Scene</th>\n",
       "      <th>FacePosition_LU</th>\n",
       "      <th>FacePosition_RD</th>\n",
       "      <th>Sentiment</th>\n",
       "      <th>Emotion</th>\n",
       "      <th>DA</th>\n",
       "      <th>Utterance</th>\n",
       "    </tr>\n",
       "  </thead>\n",
       "  <tbody>\n",
       "    <tr>\n",
       "      <th>0</th>\n",
       "      <td>1</td>\n",
       "      <td>01_000</td>\n",
       "      <td>01_000_000</td>\n",
       "      <td>童文洁</td>\n",
       "      <td>female</td>\n",
       "      <td>middle-aged</td>\n",
       "      <td>high</td>\n",
       "      <td>high</td>\n",
       "      <td>low</td>\n",
       "      <td>low</td>\n",
       "      <td>high</td>\n",
       "      <td>other-venue</td>\n",
       "      <td>108_136</td>\n",
       "      <td>156_202</td>\n",
       "      <td>neutral</td>\n",
       "      <td>neutral</td>\n",
       "      <td>greeting</td>\n",
       "      <td>真巧</td>\n",
       "    </tr>\n",
       "    <tr>\n",
       "      <th>1</th>\n",
       "      <td>1</td>\n",
       "      <td>01_000</td>\n",
       "      <td>01_000_001</td>\n",
       "      <td>童文洁</td>\n",
       "      <td>female</td>\n",
       "      <td>middle-aged</td>\n",
       "      <td>high</td>\n",
       "      <td>high</td>\n",
       "      <td>low</td>\n",
       "      <td>low</td>\n",
       "      <td>high</td>\n",
       "      <td>other-venue</td>\n",
       "      <td>193_144</td>\n",
       "      <td>253_197</td>\n",
       "      <td>neutral</td>\n",
       "      <td>neutral</td>\n",
       "      <td>greeting</td>\n",
       "      <td>车没事了</td>\n",
       "    </tr>\n",
       "    <tr>\n",
       "      <th>2</th>\n",
       "      <td>1</td>\n",
       "      <td>01_000</td>\n",
       "      <td>01_000_002</td>\n",
       "      <td>刘静</td>\n",
       "      <td>female</td>\n",
       "      <td>middle-aged</td>\n",
       "      <td>low</td>\n",
       "      <td>high</td>\n",
       "      <td>high</td>\n",
       "      <td>high</td>\n",
       "      <td>high</td>\n",
       "      <td>other-venue</td>\n",
       "      <td>0_0</td>\n",
       "      <td>0_0</td>\n",
       "      <td>neutral</td>\n",
       "      <td>neutral</td>\n",
       "      <td>answer</td>\n",
       "      <td>是你呀 没事了没事 谢谢你</td>\n",
       "    </tr>\n",
       "    <tr>\n",
       "      <th>3</th>\n",
       "      <td>1</td>\n",
       "      <td>01_000</td>\n",
       "      <td>01_000_003</td>\n",
       "      <td>童文洁</td>\n",
       "      <td>female</td>\n",
       "      <td>middle-aged</td>\n",
       "      <td>high</td>\n",
       "      <td>high</td>\n",
       "      <td>low</td>\n",
       "      <td>low</td>\n",
       "      <td>high</td>\n",
       "      <td>other-venue</td>\n",
       "      <td>0_0</td>\n",
       "      <td>0_0</td>\n",
       "      <td>neutral</td>\n",
       "      <td>neutral</td>\n",
       "      <td>question</td>\n",
       "      <td>没事没事 你也去春风</td>\n",
       "    </tr>\n",
       "    <tr>\n",
       "      <th>4</th>\n",
       "      <td>1</td>\n",
       "      <td>01_001</td>\n",
       "      <td>01_001_000</td>\n",
       "      <td>刘静</td>\n",
       "      <td>female</td>\n",
       "      <td>middle-aged</td>\n",
       "      <td>low</td>\n",
       "      <td>high</td>\n",
       "      <td>high</td>\n",
       "      <td>high</td>\n",
       "      <td>high</td>\n",
       "      <td>other-venue</td>\n",
       "      <td>0_0</td>\n",
       "      <td>0_0</td>\n",
       "      <td>neutral</td>\n",
       "      <td>neutral</td>\n",
       "      <td>answer</td>\n",
       "      <td>对</td>\n",
       "    </tr>\n",
       "  </tbody>\n",
       "</table>\n",
       "</div>"
      ],
      "text/plain": [
       "   TV_ID Dialogue_ID Utterance_ID Speaker  Gender          Age Neuroticism  \\\n",
       "0      1      01_000   01_000_000     童文洁  female  middle-aged        high   \n",
       "1      1      01_000   01_000_001     童文洁  female  middle-aged        high   \n",
       "2      1      01_000   01_000_002      刘静  female  middle-aged         low   \n",
       "3      1      01_000   01_000_003     童文洁  female  middle-aged        high   \n",
       "4      1      01_001   01_001_000      刘静  female  middle-aged         low   \n",
       "\n",
       "  Extraversion Openness Agreeableness Conscientiousness        Scene  \\\n",
       "0         high      low           low              high  other-venue   \n",
       "1         high      low           low              high  other-venue   \n",
       "2         high     high          high              high  other-venue   \n",
       "3         high      low           low              high  other-venue   \n",
       "4         high     high          high              high  other-venue   \n",
       "\n",
       "  FacePosition_LU FacePosition_RD Sentiment  Emotion        DA      Utterance  \n",
       "0         108_136         156_202   neutral  neutral  greeting             真巧  \n",
       "1         193_144         253_197   neutral  neutral  greeting           车没事了  \n",
       "2             0_0             0_0   neutral  neutral    answer  是你呀 没事了没事 谢谢你  \n",
       "3             0_0             0_0   neutral  neutral  question     没事没事 你也去春风  \n",
       "4             0_0             0_0   neutral  neutral    answer              对  "
      ]
     },
     "execution_count": 3,
     "metadata": {},
     "output_type": "execute_result"
    }
   ],
   "source": [
    "msg_data = pd.read_csv(\"../data/CPED/train_split.csv\")\n",
    "msg_data = msg_data.iloc[0:2861]\n",
    "msg_data.head()"
   ]
  },
  {
   "attachments": {},
   "cell_type": "markdown",
   "metadata": {},
   "source": [
    "# Train"
   ]
  },
  {
   "cell_type": "code",
   "execution_count": 27,
   "metadata": {},
   "outputs": [],
   "source": [
    "def asd(row):\n",
    "    for i in range(len(has_record)):\n",
    "        if i == len(res_a): res_a.append([{\"role\": \"user\", \"content\": \"现在聊天开始\"}])\n",
    "        res_a[i].append({\n",
    "            \"role\": \"user\" if has_record[i] == row[\"Speaker\"] else \"assistant\",\n",
    "            \"content\": row[\"Utterance\"]\n",
    "        })\n",
    "    return 0\n",
    "\n",
    "res = [] # 结果保存\n",
    "for i in np.unique(msg_data[\"Dialogue_ID\"]):\n",
    "    tmp_a = msg_data[msg_data[\"Dialogue_ID\"] == i] # 获取当前的对话ID所对应样本\n",
    "    has_record = np.unique(tmp_a[\"Speaker\"])\n",
    "    res_a = []\n",
    "    tmp_a.apply(asd, axis=1)\n",
    "    for i, v in enumerate(res_a):\n",
    "        v.append({\n",
    "            \"role\": \"user\",\n",
    "            \"content\": \"现在聊天结束，评估一下我的人格\"\n",
    "        })\n",
    "        v.append({\n",
    "            \"role\": \"assistant\",\n",
    "            \"content\": \"你的人格可能是：Neuroticism {}, Extraversion {}, Openness {}, Agreeableness {}, Conscientiousness {}\".format(\n",
    "                np.unique(tmp_a[tmp_a[\"Speaker\"] == has_record[i]][\"Neuroticism\"])[0],\n",
    "                np.unique(tmp_a[tmp_a[\"Speaker\"] == has_record[i]][\"Extraversion\"])[0],\n",
    "                np.unique(tmp_a[tmp_a[\"Speaker\"] == has_record[i]][\"Openness\"])[0],\n",
    "                np.unique(tmp_a[tmp_a[\"Speaker\"] == has_record[i]][\"Agreeableness\"])[0],\n",
    "                np.unique(tmp_a[tmp_a[\"Speaker\"] == has_record[i]][\"Conscientiousness\"])[0]\n",
    "            )\n",
    "        })\n",
    "        res.append(v)"
   ]
  },
  {
   "cell_type": "code",
   "execution_count": 28,
   "metadata": {},
   "outputs": [
    {
     "data": {
      "text/plain": [
       "[{'role': 'user', 'content': '现在聊天开始'},\n",
       " {'role': 'assistant', 'content': '真巧'},\n",
       " {'role': 'assistant', 'content': '车没事了'},\n",
       " {'role': 'user', 'content': '是你呀 没事了没事 谢谢你'},\n",
       " {'role': 'assistant', 'content': '没事没事 你也去春风'},\n",
       " {'role': 'user', 'content': '现在聊天结束，评估一下我的人格'},\n",
       " {'role': 'assistant',\n",
       "  'content': '你的人格可能是：Neuroticism low, Extraversion high, Openness high, Agreeableness high, Conscientiousness high'},\n",
       " {'role': 'user', 'content': '现在聊天开始'},\n",
       " {'role': 'user', 'content': '真巧'},\n",
       " {'role': 'user', 'content': '车没事了'},\n",
       " {'role': 'assistant', 'content': '是你呀 没事了没事 谢谢你'},\n",
       " {'role': 'user', 'content': '没事没事 你也去春风'},\n",
       " {'role': 'user', 'content': '现在聊天结束，评估一下我的人格'},\n",
       " {'role': 'assistant',\n",
       "  'content': '你的人格可能是：Neuroticism high, Extraversion high, Openness low, Agreeableness low, Conscientiousness high'}]"
      ]
     },
     "execution_count": 28,
     "metadata": {},
     "output_type": "execute_result"
    }
   ],
   "source": [
    "msg_res = []\n",
    "for i in range(2):\n",
    "    for j in res[i]:\n",
    "        msg_res.append(j)\n",
    "        \n",
    "msg_res"
   ]
  },
  {
   "attachments": {},
   "cell_type": "markdown",
   "metadata": {},
   "source": [
    "# Valid"
   ]
  },
  {
   "cell_type": "code",
   "execution_count": 30,
   "metadata": {},
   "outputs": [],
   "source": [
    "valid_res = [{\n",
    "    \"role\": \"user\",\n",
    "    \"content\": \"好厨艺倒是真的 不过于春晓\"\n",
    "}, {\n",
    "    \"role\": \"user\",\n",
    "    \"content\": \"这么恨嫁可不太好吧\"\n",
    "}, {\n",
    "    \"role\": \"user\",\n",
    "    \"content\": \"现在聊天结束，评估一下我的人格\"\n",
    "}]"
   ]
  },
  {
   "cell_type": "code",
   "execution_count": 31,
   "metadata": {},
   "outputs": [
    {
     "data": {
      "text/plain": [
       "[{'role': 'user', 'content': '现在聊天开始'},\n",
       " {'role': 'assistant', 'content': '真巧'},\n",
       " {'role': 'assistant', 'content': '车没事了'},\n",
       " {'role': 'user', 'content': '是你呀 没事了没事 谢谢你'},\n",
       " {'role': 'assistant', 'content': '没事没事 你也去春风'},\n",
       " {'role': 'user', 'content': '现在聊天结束，评估一下我的人格'},\n",
       " {'role': 'assistant',\n",
       "  'content': '你的人格可能是：Neuroticism low, Extraversion high, Openness high, Agreeableness high, Conscientiousness high'},\n",
       " {'role': 'user', 'content': '现在聊天开始'},\n",
       " {'role': 'user', 'content': '真巧'},\n",
       " {'role': 'user', 'content': '车没事了'},\n",
       " {'role': 'assistant', 'content': '是你呀 没事了没事 谢谢你'},\n",
       " {'role': 'user', 'content': '没事没事 你也去春风'},\n",
       " {'role': 'user', 'content': '现在聊天结束，评估一下我的人格'},\n",
       " {'role': 'assistant',\n",
       "  'content': '你的人格可能是：Neuroticism high, Extraversion high, Openness low, Agreeableness low, Conscientiousness high'},\n",
       " {'role': 'user', 'content': '好厨艺倒是真的 不过于春晓'},\n",
       " {'role': 'user', 'content': '这么恨嫁可不太好吧'},\n",
       " {'role': 'user', 'content': '现在聊天结束，评估一下我的人格'}]"
      ]
     },
     "execution_count": 31,
     "metadata": {},
     "output_type": "execute_result"
    }
   ],
   "source": [
    "ask_msg = [v for v in msg_res]\n",
    "for i in valid_res:\n",
    "    ask_msg.append(i)\n",
    "    \n",
    "ask_msg"
   ]
  },
  {
   "cell_type": "code",
   "execution_count": 36,
   "metadata": {},
   "outputs": [],
   "source": [
    "pre = askChatGPT(ask_msg)"
   ]
  },
  {
   "cell_type": "code",
   "execution_count": 33,
   "metadata": {},
   "outputs": [
    {
     "data": {
      "text/plain": [
       "'你的人格可能是：Neuroticism low, Extraversion high, Openness high, Agreeableness high, Conscientiousness high'"
      ]
     },
     "execution_count": 33,
     "metadata": {},
     "output_type": "execute_result"
    }
   ],
   "source": [
    "pre"
   ]
  },
  {
   "cell_type": "code",
   "execution_count": 35,
   "metadata": {},
   "outputs": [
    {
     "data": {
      "text/plain": [
       "'你的人格可能是：Neuroticism low, Extraversion high, Openness high, Agreeableness high, Conscientiousness high'"
      ]
     },
     "execution_count": 35,
     "metadata": {},
     "output_type": "execute_result"
    }
   ],
   "source": [
    "pre"
   ]
  },
  {
   "cell_type": "code",
   "execution_count": 37,
   "metadata": {},
   "outputs": [
    {
     "data": {
      "text/plain": [
       "'你的人格可能是：Neuroticism low, Extraversion high, Openness high, Agreeableness high, Conscientiousness high'"
      ]
     },
     "execution_count": 37,
     "metadata": {},
     "output_type": "execute_result"
    }
   ],
   "source": [
    "pre"
   ]
  }
 ],
 "metadata": {
  "kernelspec": {
   "display_name": "base",
   "language": "python",
   "name": "python3"
  },
  "language_info": {
   "codemirror_mode": {
    "name": "ipython",
    "version": 3
   },
   "file_extension": ".py",
   "mimetype": "text/x-python",
   "name": "python",
   "nbconvert_exporter": "python",
   "pygments_lexer": "ipython3",
   "version": "3.9.16"
  },
  "orig_nbformat": 4,
  "vscode": {
   "interpreter": {
    "hash": "8c83757f6c30423986c3fbe55670954346c835ad41fee96d431030808e97aca6"
   }
  }
 },
 "nbformat": 4,
 "nbformat_minor": 2
}
