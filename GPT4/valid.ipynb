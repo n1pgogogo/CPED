{
 "cells": [
  {
   "cell_type": "code",
   "execution_count": 126,
   "metadata": {},
   "outputs": [],
   "source": [
    "import numpy as np\n",
    "import matplotlib.pyplot as plt\n",
    "import random\n",
    "import pandas as pd\n",
    "\n",
    "# 准备数据\n",
    "r_real = pd.concat([\n",
    "    pd.DataFrame(\n",
    "        np.array([random.randint(0, 1) for i in range(100)]).reshape(20, 5),\n",
    "        columns=[\"O\", \"C\", \"E\", \"A\", \"N\"]),\n",
    "    pd.DataFrame([], columns=[\"I\"])\n",
    "])\n",
    "r_real[\"I\"] = [i for i in range(20)]\n",
    "r_pre = pd.concat([\n",
    "    pd.DataFrame(\n",
    "        np.array([random.random() for i in range(1000)]).reshape(200, 5),\n",
    "        columns=[\"O\", \"C\", \"E\", \"A\", \"N\"]),\n",
    "    pd.DataFrame([], columns=[\"I\"])\n",
    "])\n",
    "def tran(x):\n",
    "    if x > 0.6:\n",
    "        return 1.0\n",
    "    elif x < 0.4:\n",
    "        return 0.0\n",
    "    else:\n",
    "        return np.nan # 看心情 0.5 还是 np.nan 吧\n",
    "r_pre = r_pre.applymap(tran)\n",
    "r_pre[\"I\"] = [i for i in range(20)] * 10"
   ]
  },
  {
   "cell_type": "code",
   "execution_count": 127,
   "metadata": {},
   "outputs": [
    {
     "data": {
      "text/plain": [
       "0.395"
      ]
     },
     "execution_count": 127,
     "metadata": {},
     "output_type": "execute_result"
    }
   ],
   "source": [
    "# cd plan1\n",
    "# 不合并，直接求\n",
    "res = []\n",
    "for i, row in r_pre.iterrows():\n",
    "    for v in r_pre.columns[:-1]:\n",
    "        res.append(1 if row[v] == r_real[v][row[\"I\"]] else 0)\n",
    "pd.DataFrame(np.array(res).reshape(int(len(res) / 5),5), columns=r_pre.columns[:-1])[\"O\"].mean()"
   ]
  },
  {
   "cell_type": "code",
   "execution_count": 128,
   "metadata": {},
   "outputs": [
    {
     "name": "stdout",
     "output_type": "stream",
     "text": [
      "O\t0.4893849206349207\n"
     ]
    }
   ],
   "source": [
    "# both plan2\n",
    "# 合并，不转求平均\n",
    "r_pre_1 = r_pre.groupby(by=[\"I\"]).mean()\n",
    "r_real_1 = r_real.groupby(by=[\"I\"]).mean()\n",
    "\n",
    "print(\"O\", end=\"\\t\")\n",
    "print(1 - np.sum(\n",
    "    [abs(r_real_1[\"O\"][i] - r_pre_1[\"O\"][i]) for i in r_pre_1.index]\n",
    ") / r_pre_1.shape[0])"
   ]
  },
  {
   "cell_type": "code",
   "execution_count": 129,
   "metadata": {},
   "outputs": [
    {
     "data": {
      "text/plain": [
       "0.5"
      ]
     },
     "execution_count": 129,
     "metadata": {},
     "output_type": "execute_result"
    }
   ],
   "source": [
    "# cx plan1\n",
    "# 合并，转值，然后求准确率\n",
    "def tran2(x):\n",
    "    if x == 0.5 or np.isnan(x):\n",
    "        return 0.5\n",
    "    elif x > 0.5:\n",
    "        return 1\n",
    "    else:\n",
    "        return 0\n",
    "r_pre_2 = r_pre.applymap(lambda x: 0.5 if np.isnan(x) else x).groupby(by=[\"I\"]).mean().applymap(tran2)\n",
    "r_real_2 = r_real.groupby(by=[\"I\"]).mean()\n",
    "\n",
    "res = []\n",
    "for i in r_pre_2.index:\n",
    "    for v in r_pre_2.columns:\n",
    "        res.append(1 if r_pre_2[v][i] == r_real_2[v][i] else 0)\n",
    "pd.DataFrame(np.array(res).reshape(int(len(res) / 5),5), columns=r_pre_2.columns)[\"O\"].mean()"
   ]
  },
  {
   "cell_type": "code",
   "execution_count": 130,
   "metadata": {},
   "outputs": [
    {
     "data": {
      "text/plain": [
       "(0.365, 0.4863492063492063, 0.35)"
      ]
     },
     "execution_count": 130,
     "metadata": {},
     "output_type": "execute_result"
    }
   ],
   "source": [
    "def step():\n",
    "    r_real = pd.concat([\n",
    "        pd.DataFrame(\n",
    "            np.array([random.randint(0, 1) for i in range(100)]).reshape(20, 5),\n",
    "            columns=[\"O\", \"C\", \"E\", \"A\", \"N\"]),\n",
    "        pd.DataFrame([], columns=[\"I\"])\n",
    "    ])\n",
    "    r_real[\"I\"] = [i for i in range(20)]\n",
    "    r_pre = pd.concat([\n",
    "        pd.DataFrame(\n",
    "            np.array([random.random() for i in range(1000)]).reshape(200, 5),\n",
    "            columns=[\"O\", \"C\", \"E\", \"A\", \"N\"]),\n",
    "        pd.DataFrame([], columns=[\"I\"])\n",
    "    ])\n",
    "\n",
    "    def tran(x):\n",
    "        if x > 0.6:\n",
    "            return 1.0\n",
    "        elif x < 0.4:\n",
    "            return 0.0\n",
    "        else:\n",
    "            return np.nan  # 看心情 0.5 还是 np.nan 吧\n",
    "\n",
    "    r_pre = r_pre.applymap(tran)\n",
    "    r_pre[\"I\"] = [i for i in range(20)] * 10\n",
    "    def plan1():\n",
    "        res = []\n",
    "        for i, row in r_pre.iterrows():\n",
    "            for v in r_pre.columns[:-1]:\n",
    "                res.append(1 if row[v] == r_real[v][row[\"I\"]] else 0)\n",
    "        return pd.DataFrame(np.array(res).reshape(int(len(res) / 5),5), columns=r_pre.columns[:-1])[\"O\"].mean()\n",
    "    def plan2():\n",
    "        r_pre_1 = r_pre.groupby(by=[\"I\"]).mean()\n",
    "        r_real_1 = r_real.groupby(by=[\"I\"]).mean()\n",
    "        return 1 - np.sum(\n",
    "            [abs(r_real_1[\"O\"][i] - r_pre_1[\"O\"][i]) for i in r_pre_1.index]\n",
    "        ) / r_pre_1.shape[0]\n",
    "    def plan3():\n",
    "        def tran2(x):\n",
    "            if x == 0.5 or np.isnan(x):\n",
    "                return 0.5\n",
    "            elif x > 0.5:\n",
    "                return 1\n",
    "            else:\n",
    "                return 0\n",
    "        r_pre_2 = r_pre.applymap(lambda x: 0.5 if np.isnan(x) else x).groupby(by=[\"I\"]).mean().applymap(tran2)\n",
    "        r_real_2 = r_real.groupby(by=[\"I\"]).mean()\n",
    "\n",
    "        res = []\n",
    "        for i in r_pre_2.index:\n",
    "            for v in r_pre_2.columns:\n",
    "                res.append(1 if r_pre_2[v][i] == r_real_2[v][i] else 0)\n",
    "        return pd.DataFrame(np.array(res).reshape(int(len(res) / 5),5), columns=r_pre_2.columns)[\"O\"].mean()\n",
    "    return (plan1(), plan2(), plan3())\n",
    "\n",
    "step()\n"
   ]
  },
  {
   "cell_type": "code",
   "execution_count": 132,
   "metadata": {},
   "outputs": [
    {
     "data": {
      "text/html": [
       "<div>\n",
       "<style scoped>\n",
       "    .dataframe tbody tr th:only-of-type {\n",
       "        vertical-align: middle;\n",
       "    }\n",
       "\n",
       "    .dataframe tbody tr th {\n",
       "        vertical-align: top;\n",
       "    }\n",
       "\n",
       "    .dataframe thead th {\n",
       "        text-align: right;\n",
       "    }\n",
       "</style>\n",
       "<table border=\"1\" class=\"dataframe\">\n",
       "  <thead>\n",
       "    <tr style=\"text-align: right;\">\n",
       "      <th></th>\n",
       "      <th>value</th>\n",
       "      <th>in</th>\n",
       "    </tr>\n",
       "  </thead>\n",
       "  <tbody>\n",
       "    <tr>\n",
       "      <th>0</th>\n",
       "      <td>0.375000</td>\n",
       "      <td>p1</td>\n",
       "    </tr>\n",
       "    <tr>\n",
       "      <th>1</th>\n",
       "      <td>0.501746</td>\n",
       "      <td>p2</td>\n",
       "    </tr>\n",
       "    <tr>\n",
       "      <th>2</th>\n",
       "      <td>0.400000</td>\n",
       "      <td>p3</td>\n",
       "    </tr>\n",
       "    <tr>\n",
       "      <th>3</th>\n",
       "      <td>0.420000</td>\n",
       "      <td>p1</td>\n",
       "    </tr>\n",
       "    <tr>\n",
       "      <th>4</th>\n",
       "      <td>0.525278</td>\n",
       "      <td>p2</td>\n",
       "    </tr>\n",
       "  </tbody>\n",
       "</table>\n",
       "</div>"
      ],
      "text/plain": [
       "      value  in\n",
       "0  0.375000  p1\n",
       "1  0.501746  p2\n",
       "2  0.400000  p3\n",
       "3  0.420000  p1\n",
       "4  0.525278  p2"
      ]
     },
     "execution_count": 132,
     "metadata": {},
     "output_type": "execute_result"
    }
   ],
   "source": [
    "res = []\n",
    "n = 1000\n",
    "for i in range(n):\n",
    "    res.append(step())\n",
    "df = pd.DataFrame(np.array(res).reshape(len(res) * 3, 1), columns=[\"value\"])\n",
    "df[\"in\"] = [\"p1\", \"p2\", \"p3\"] * n\n",
    "df.head()"
   ]
  },
  {
   "cell_type": "code",
   "execution_count": 135,
   "metadata": {},
   "outputs": [
    {
     "data": {
      "text/plain": [
       "<matplotlib.collections.PathCollection at 0x19c5e7d69a0>"
      ]
     },
     "execution_count": 135,
     "metadata": {},
     "output_type": "execute_result"
    },
    {
     "data": {
      "image/png": "[encoded data removed]",
      "text/plain": [
       "<Figure size 640x480 with 1 Axes>"
      ]
     },
     "metadata": {},
     "output_type": "display_data"
    }
   ],
   "source": [
    "plt.scatter(df[\"in\"], df[\"value\"])"
   ]
  }
 ],
 "metadata": {
  "kernelspec": {
   "display_name": "base",
   "language": "python",
   "name": "python3"
  },
  "language_info": {
   "codemirror_mode": {
    "name": "ipython",
    "version": 3
   },
   "file_extension": ".py",
   "mimetype": "text/x-python",
   "name": "python",
   "nbconvert_exporter": "python",
   "pygments_lexer": "ipython3",
   "version": "3.9.16"
  },
  "orig_nbformat": 4,
  "vscode": {
   "interpreter": {
    "hash": "8c83757f6c30423986c3fbe55670954346c835ad41fee96d431030808e97aca6"
   }
  }
 },
 "nbformat": 4,
 "nbformat_minor": 2
}
